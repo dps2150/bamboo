{
 "cells": [
  {
   "cell_type": "markdown",
   "id": "b4bdaefb-058e-42e2-8f12-67fb993c1519",
   "metadata": {},
   "source": [
    "# Pandas Bamboo Testing"
   ]
  },
  {
   "cell_type": "code",
   "execution_count": 1,
   "id": "59d66d16-8e98-4932-b537-012ac89bfcd0",
   "metadata": {},
   "outputs": [],
   "source": [
    "%load_ext autoreload\n",
    "%autoreload 2"
   ]
  },
  {
   "cell_type": "code",
   "execution_count": 4,
   "id": "2a809d73-8f0a-4bcb-85fa-50974f3096b5",
   "metadata": {},
   "outputs": [],
   "source": [
    "import pandas as pd\n",
    "\n",
    "from bamboo import bamboo as bb"
   ]
  },
  {
   "cell_type": "markdown",
   "id": "f1155d0a-6a38-46b5-84a9-db7182046ce6",
   "metadata": {},
   "source": [
    "## Data"
   ]
  },
  {
   "cell_type": "code",
   "execution_count": 65,
   "id": "0bec1d95-77d2-4d01-a933-ea1dcd1c85c0",
   "metadata": {},
   "outputs": [],
   "source": [
    "data = {'str_col':['hello world, this is a string line... pandas is stronger with bamboo' for _ in range(10000)]}"
   ]
  },
  {
   "cell_type": "code",
   "execution_count": 5,
   "id": "cc818e55-6b41-47af-bdbb-a45f415cd30a",
   "metadata": {},
   "outputs": [],
   "source": [
    "big_data = {'col'+str(i): ['hello world this is a big string line, pandas is stronger with bamboo' for _ in range(3500)] for i in range(10)}"
   ]
  },
  {
   "cell_type": "markdown",
   "id": "85ecbe49-c1b7-4d28-8695-8e3a1f1597aa",
   "metadata": {},
   "source": [
    "### DataFrames"
   ]
  },
  {
   "cell_type": "code",
   "execution_count": 66,
   "id": "7cfb73a0-8048-4572-8ef5-00d44ff5f1b1",
   "metadata": {},
   "outputs": [],
   "source": [
    "df = pd.DataFrame(data)\n",
    "bdf = bb.DataFrame(data)"
   ]
  },
  {
   "cell_type": "markdown",
   "id": "0231f2b6-74a5-4726-8a5d-d5dd26d1f1f9",
   "metadata": {},
   "source": [
    "## Create DataFrame"
   ]
  },
  {
   "cell_type": "code",
   "execution_count": 67,
   "id": "98e7194b-d71f-4433-b47b-0be13fc297ee",
   "metadata": {},
   "outputs": [
    {
     "name": "stdout",
     "output_type": "stream",
     "text": [
      "1.43 ms ± 11.5 µs per loop (mean ± std. dev. of 7 runs, 1,000 loops each)\n"
     ]
    }
   ],
   "source": [
    "pandas_time = %timeit -o pd.DataFrame(big_data)"
   ]
  },
  {
   "cell_type": "code",
   "execution_count": 68,
   "id": "028cc8d5-e466-49df-b51f-462ef3eeb12d",
   "metadata": {},
   "outputs": [
    {
     "name": "stdout",
     "output_type": "stream",
     "text": [
      "239 µs ± 448 ns per loop (mean ± std. dev. of 7 runs, 1,000 loops each)\n"
     ]
    }
   ],
   "source": [
    "bamboo_time = %timeit -o bb.DataFrame(big_data)"
   ]
  },
  {
   "cell_type": "code",
   "execution_count": 69,
   "id": "16111ac5-1c80-4405-acfe-32d89c9b4d85",
   "metadata": {},
   "outputs": [
    {
     "name": "stdout",
     "output_type": "stream",
     "text": [
      "6.0x faster with bamboo\n"
     ]
    }
   ],
   "source": [
    "compare(pandas_time, bamboo_time)"
   ]
  },
  {
   "cell_type": "code",
   "execution_count": 10,
   "id": "2423be30-bbf1-492c-ac68-6b061b973351",
   "metadata": {},
   "outputs": [
    {
     "name": "stdout",
     "output_type": "stream",
     "text": [
      "27.3 µs ± 139 ns per loop (mean ± std. dev. of 7 runs, 10,000 loops each)\n"
     ]
    }
   ],
   "source": [
    "%%timeit\n",
    "# from pandas df to bamboo\n",
    "bdf = bb.DataFrame(df)"
   ]
  },
  {
   "cell_type": "code",
   "execution_count": 64,
   "id": "d2500833-863a-4089-be15-4da5831c3645",
   "metadata": {},
   "outputs": [],
   "source": [
    "def compare(pan, bam):\n",
    "    print(f'{pan.average / bam.average:.1f}x faster with bamboo')"
   ]
  },
  {
   "cell_type": "markdown",
   "id": "6153f0fb-8f47-4ba7-8758-76f23bec87ea",
   "metadata": {},
   "source": [
    "# Accessors"
   ]
  },
  {
   "cell_type": "markdown",
   "id": "1aab7e73-5392-41ef-93dc-2864a6342f42",
   "metadata": {},
   "source": [
    "# .at\n",
    "Executing in the form of a loop to assess at multiple get and set"
   ]
  },
  {
   "cell_type": "code",
   "execution_count": 70,
   "id": "bfd560de-4006-4810-a0b9-4e4db5580ae2",
   "metadata": {},
   "outputs": [
    {
     "name": "stdout",
     "output_type": "stream",
     "text": [
      "146 ms ± 604 µs per loop (mean ± std. dev. of 7 runs, 10 loops each)\n"
     ]
    }
   ],
   "source": [
    "def pandas_run():\n",
    "    for i in range(len(df)):\n",
    "        value = df.at[i, 'str_col']\n",
    "        df.at[i, 'str_col'] = value\n",
    "        \n",
    "pandas_time = %timeit -o pandas_run()"
   ]
  },
  {
   "cell_type": "code",
   "execution_count": 74,
   "id": "d47f04f1-0ae0-433e-b4b5-5ecbd8ac5d81",
   "metadata": {},
   "outputs": [
    {
     "name": "stdout",
     "output_type": "stream",
     "text": [
      "6.98 ms ± 31 µs per loop (mean ± std. dev. of 7 runs, 100 loops each)\n"
     ]
    }
   ],
   "source": [
    "def bamboo_run():\n",
    "    for i in range(len(bdf)):\n",
    "        value = bdf.at[i, 'str_col']\n",
    "        bdf.at[i, 'str_col'] = value\n",
    "        \n",
    "bamboo_time = %timeit -o bamboo_run()"
   ]
  },
  {
   "cell_type": "code",
   "execution_count": 75,
   "id": "1ef89c9c-03c9-4bc3-82bf-e417dca9bb0b",
   "metadata": {},
   "outputs": [
    {
     "name": "stdout",
     "output_type": "stream",
     "text": [
      "20.9x faster with bamboo\n"
     ]
    }
   ],
   "source": [
    "# result\n",
    "compare(pandas_time, bamboo_time)"
   ]
  },
  {
   "cell_type": "markdown",
   "id": "74d86746-abe6-4b4d-aa59-c5bd2733fb92",
   "metadata": {},
   "source": [
    "### version 2 chained indexing\n",
    "with bamboo, chained indexing is allowed for getting and setting"
   ]
  },
  {
   "cell_type": "code",
   "execution_count": 76,
   "id": "38590265-1be2-4e3e-aecf-b5d69220d345",
   "metadata": {},
   "outputs": [
    {
     "name": "stdout",
     "output_type": "stream",
     "text": [
      "2.34 ms ± 5.87 µs per loop (mean ± std. dev. of 7 runs, 100 loops each)\n"
     ]
    }
   ],
   "source": [
    "# version 2 chained indexing \n",
    "def bamboo_run():\n",
    "    for i in range(len(bdf['str_col'])):\n",
    "        value = bdf['str_col'][i]\n",
    "        bdf['str_col'][i] = value\n",
    "        \n",
    "bamboo_time = %timeit -o bamboo_run()"
   ]
  },
  {
   "cell_type": "code",
   "execution_count": 77,
   "id": "8ea70b36-6473-49b7-aad5-b3439dc0f40c",
   "metadata": {},
   "outputs": [
    {
     "name": "stdout",
     "output_type": "stream",
     "text": [
      "62.3x faster with bamboo\n"
     ]
    }
   ],
   "source": [
    "# result\n",
    "compare(pandas_time, bamboo_time)"
   ]
  },
  {
   "cell_type": "markdown",
   "id": "ceab4d31-8856-453b-8cf2-1e9bc63b6a32",
   "metadata": {},
   "source": [
    "## .loc"
   ]
  },
  {
   "cell_type": "code",
   "execution_count": 78,
   "id": "318713f9-1527-4fc6-9c6e-87736fd0f41c",
   "metadata": {},
   "outputs": [
    {
     "name": "stdout",
     "output_type": "stream",
     "text": [
      "339 ms ± 1.3 ms per loop (mean ± std. dev. of 7 runs, 1 loop each)\n"
     ]
    }
   ],
   "source": [
    "def pandas_run():\n",
    "    for i in range(len(df)):\n",
    "        value = df.loc[i, 'str_col']\n",
    "        df.loc[i, 'str_col'] = value\n",
    "        \n",
    "pandas_time = %timeit -o pandas_run()"
   ]
  },
  {
   "cell_type": "code",
   "execution_count": 79,
   "id": "62e8b396-d0b5-47ee-9d7d-9f8b2cae9058",
   "metadata": {},
   "outputs": [
    {
     "name": "stdout",
     "output_type": "stream",
     "text": [
      "7.26 ms ± 16.5 µs per loop (mean ± std. dev. of 7 runs, 100 loops each)\n"
     ]
    }
   ],
   "source": [
    "def bamboo_run():\n",
    "    for i in range(len(df)):\n",
    "        value = bdf.loc[i, 'str_col']\n",
    "        bdf.loc[i, 'str_col'] = value\n",
    "    \n",
    "bamboo_time = %timeit -o bamboo_run()"
   ]
  },
  {
   "cell_type": "code",
   "execution_count": 80,
   "id": "a62740fe-b608-4395-a946-6bbb7433ae42",
   "metadata": {},
   "outputs": [
    {
     "name": "stdout",
     "output_type": "stream",
     "text": [
      "46.6x faster with bamboo\n"
     ]
    }
   ],
   "source": [
    "compare(pandas_time, bamboo_time)"
   ]
  },
  {
   "cell_type": "markdown",
   "id": "356c537f-e7b6-4096-a623-6de7876ee3ae",
   "metadata": {},
   "source": [
    "# slicing"
   ]
  },
  {
   "cell_type": "code",
   "execution_count": 82,
   "id": "359215ac-703a-4ae2-b6a2-65b3cc5e438c",
   "metadata": {},
   "outputs": [
    {
     "name": "stdout",
     "output_type": "stream",
     "text": [
      "8.48 µs ± 25.9 ns per loop (mean ± std. dev. of 7 runs, 100,000 loops each)\n"
     ]
    }
   ],
   "source": [
    "pandas_time = %timeit -o df.loc[1:100, 'str_col']"
   ]
  },
  {
   "cell_type": "code",
   "execution_count": 84,
   "id": "ede7dcc9-2dd9-412a-8ce8-74d5e035fab4",
   "metadata": {},
   "outputs": [
    {
     "name": "stdout",
     "output_type": "stream",
     "text": [
      "1.13 µs ± 2.71 ns per loop (mean ± std. dev. of 7 runs, 1,000,000 loops each)\n"
     ]
    }
   ],
   "source": [
    "bamboo_time = %timeit -o bdf.loc[1:100, 'str_col']"
   ]
  },
  {
   "cell_type": "code",
   "execution_count": 85,
   "id": "bd3e9a2a-73f9-43c5-b30d-8f2ff67183bc",
   "metadata": {},
   "outputs": [
    {
     "name": "stdout",
     "output_type": "stream",
     "text": [
      "7.5x faster with bamboo\n"
     ]
    }
   ],
   "source": [
    "compare(pandas_time, bamboo_time)"
   ]
  },
  {
   "cell_type": "markdown",
   "id": "14b2d85e-9f0f-4906-b563-1c15579e08a1",
   "metadata": {},
   "source": [
    "# properties"
   ]
  },
  {
   "cell_type": "code",
   "execution_count": 80,
   "id": "c5c1cb42-02ad-4b90-8bbc-226dd54e52ea",
   "metadata": {},
   "outputs": [
    {
     "name": "stdout",
     "output_type": "stream",
     "text": [
      "368 ns ± 0.972 ns per loop (mean ± std. dev. of 7 runs, 1,000,000 loops each)\n"
     ]
    }
   ],
   "source": [
    "%%timeit\n",
    "df.shape"
   ]
  },
  {
   "cell_type": "code",
   "execution_count": 79,
   "id": "f8b84592-927d-43c9-b7a8-e8163fc10feb",
   "metadata": {},
   "outputs": [
    {
     "name": "stdout",
     "output_type": "stream",
     "text": [
      "128 ns ± 0.225 ns per loop (mean ± std. dev. of 7 runs, 10,000,000 loops each)\n"
     ]
    }
   ],
   "source": [
    "%%timeit\n",
    "bdf.shape"
   ]
  },
  {
   "cell_type": "code",
   "execution_count": 10,
   "id": "60c5bf8f-5e5e-448d-9d67-e3d0eb4195a9",
   "metadata": {},
   "outputs": [
    {
     "name": "stdout",
     "output_type": "stream",
     "text": [
      "3.25 µs ± 30.9 ns per loop (mean ± std. dev. of 7 runs, 100,000 loops each)\n"
     ]
    }
   ],
   "source": [
    "%%timeit\n",
    "df.size"
   ]
  },
  {
   "cell_type": "code",
   "execution_count": 12,
   "id": "fad3ec4e-b7f3-434c-866f-d7ce7ca7396a",
   "metadata": {},
   "outputs": [
    {
     "name": "stdout",
     "output_type": "stream",
     "text": [
      "133 ns ± 0.645 ns per loop (mean ± std. dev. of 7 runs, 10,000,000 loops each)\n"
     ]
    }
   ],
   "source": [
    "%%timeit\n",
    "bdf.size"
   ]
  },
  {
   "cell_type": "markdown",
   "id": "b1a5d9d8-1cb0-499a-a898-395f7e7650d6",
   "metadata": {},
   "source": [
    "# concat\n",
    "TODO"
   ]
  },
  {
   "cell_type": "code",
   "execution_count": 98,
   "id": "0811a022-1a5e-413a-9f0c-a6f9fff35abf",
   "metadata": {},
   "outputs": [],
   "source": [
    "df2 = pd.DataFrame(data)\n",
    "bdf2 = bb.DataFrame(data)"
   ]
  },
  {
   "cell_type": "code",
   "execution_count": 99,
   "id": "bd847cf1-07e3-4eba-a95d-7f004a7d9f03",
   "metadata": {},
   "outputs": [],
   "source": [
    "data2 = {'col'+str(i): ['dataset 2' for _ in range(3500)] for i in range(10,15)}\n",
    "df2 = pd.DataFrame(data2)\n",
    "bdf2 = bb.DataFrame(data2)"
   ]
  },
  {
   "cell_type": "code",
   "execution_count": 100,
   "id": "87ab06f7-f92c-4dfd-a774-3f0b52ebaedd",
   "metadata": {},
   "outputs": [
    {
     "name": "stdout",
     "output_type": "stream",
     "text": [
      "1.25 ms ± 23.1 µs per loop (mean ± std. dev. of 7 runs, 1,000 loops each)\n"
     ]
    }
   ],
   "source": [
    "%%timeit\n",
    "pd.concat([df, df2], axis=0)"
   ]
  },
  {
   "cell_type": "code",
   "execution_count": 101,
   "id": "4a01c6ea-0ca3-4c54-b3e2-e0748bbf4af8",
   "metadata": {},
   "outputs": [
    {
     "name": "stdout",
     "output_type": "stream",
     "text": [
      "115 µs ± 1.02 µs per loop (mean ± std. dev. of 7 runs, 10,000 loops each)\n"
     ]
    }
   ],
   "source": [
    "%%timeit\n",
    "bb.concat([bdf, bdf2], axis=0)"
   ]
  },
  {
   "cell_type": "markdown",
   "id": "fb661dee-901c-4074-8bdd-4d140ba1f8f8",
   "metadata": {},
   "source": [
    "# Memory Usage"
   ]
  },
  {
   "cell_type": "code",
   "execution_count": 87,
   "id": "345d8a7e-4edb-41f2-a9f0-86eff2258eb2",
   "metadata": {},
   "outputs": [
    {
     "data": {
      "text/plain": [
       "1.1922492980957031"
      ]
     },
     "execution_count": 87,
     "metadata": {},
     "output_type": "execute_result"
    }
   ],
   "source": [
    "sys.getsizeof(df) / 1024**2"
   ]
  },
  {
   "cell_type": "code",
   "execution_count": 96,
   "id": "ceed6983-713d-4b65-894a-b195e4d1c2d7",
   "metadata": {},
   "outputs": [
    {
     "data": {
      "text/plain": [
       "Index          132\n",
       "str_col    1250000\n",
       "dtype: int64"
      ]
     },
     "execution_count": 96,
     "metadata": {},
     "output_type": "execute_result"
    }
   ],
   "source": [
    "df.memory_usage(deep=True).str_col "
   ]
  },
  {
   "cell_type": "code",
   "execution_count": 97,
   "id": "a44e8a31-9950-4cec-bfd0-e4a0f006e557",
   "metadata": {},
   "outputs": [
    {
     "data": {
      "text/plain": [
       "1.1157989501953125"
      ]
     },
     "execution_count": 97,
     "metadata": {},
     "output_type": "execute_result"
    }
   ],
   "source": [
    "# todo \n",
    "sum([sys.getsizeof(item) for item in bdf['str_col']]) / 1024**2"
   ]
  },
  {
   "cell_type": "markdown",
   "id": "8092f6d4-83df-43f2-bcb6-efed5e6691b9",
   "metadata": {},
   "source": [
    "# R&D\n",
    "working zone and todo stack"
   ]
  },
  {
   "cell_type": "code",
   "execution_count": null,
   "id": "0f85e61e-a498-45c5-aca8-e2b60ffe2024",
   "metadata": {},
   "outputs": [],
   "source": [
    "%%timeit\n",
    "df.str_col.str.contains('us')"
   ]
  },
  {
   "cell_type": "code",
   "execution_count": 210,
   "id": "766f1329-5ba3-4a16-ae25-88641853e3f2",
   "metadata": {},
   "outputs": [
    {
     "name": "stdout",
     "output_type": "stream",
     "text": [
      "610 µs ± 3.85 µs per loop (mean ± std. dev. of 7 runs, 1,000 loops each)\n"
     ]
    }
   ],
   "source": [
    "%%timeit\n",
    "df.loc[df.str_col.str.contains('foo')]"
   ]
  },
  {
   "cell_type": "code",
   "execution_count": null,
   "id": "3352f56d-c8d2-4df9-826b-84a4e89d6a9e",
   "metadata": {},
   "outputs": [],
   "source": [
    "%%timeit\n",
    "def sameVal(value):\n",
    "    return value\n",
    "\n",
    "df.str_col.apply(sameVal)"
   ]
  },
  {
   "cell_type": "code",
   "execution_count": 183,
   "id": "71c3fa0a-2400-4a57-b238-0ecb1fe28bba",
   "metadata": {},
   "outputs": [
    {
     "name": "stdout",
     "output_type": "stream",
     "text": [
      "401 µs ± 2.16 µs per loop (mean ± std. dev. of 7 runs, 1,000 loops each)\n"
     ]
    }
   ],
   "source": [
    "%%timeit\n",
    "found = [True if 'us' in value else False for value in t['str_col']]\n",
    "subset = {}\n",
    "for str_col in t.keys():\n",
    "    data =[t[str_col][i] for i in range(len(df)) if found[i]]\n",
    "    subset[str_col] = data"
   ]
  },
  {
   "cell_type": "code",
   "execution_count": 203,
   "id": "ea707694-192f-4b65-8cbb-87b0fac30e5c",
   "metadata": {},
   "outputs": [
    {
     "name": "stdout",
     "output_type": "stream",
     "text": [
      "291 µs ± 1.89 µs per loop (mean ± std. dev. of 7 runs, 1,000 loops each)\n"
     ]
    }
   ],
   "source": [
    "%%timeit\n",
    "found = [True if 'foo' in value else False for value in t['str_col']]\n",
    "{str_col: [t[str_col][i] for i in range(len(t['str_col'])) if found[i]] for str_col in t.keys()}"
   ]
  },
  {
   "cell_type": "code",
   "execution_count": 211,
   "id": "0b45994f-3f03-4e26-8e85-e3ab98f6b381",
   "metadata": {},
   "outputs": [
    {
     "name": "stdout",
     "output_type": "stream",
     "text": [
      "173 µs ± 800 ns per loop (mean ± std. dev. of 7 runs, 10,000 loops each)\n"
     ]
    }
   ],
   "source": [
    "%%timeit\n",
    "found = [idx for idx, value in enumerate(t['str_col']) if 'foo' in value]\n",
    "subset = {str_col: [t[str_col][i] for i in found] for str_col in t.keys()}"
   ]
  },
  {
   "cell_type": "code",
   "execution_count": 194,
   "id": "fe27020a-ca0d-439c-a08d-9f237982abd8",
   "metadata": {},
   "outputs": [
    {
     "data": {
      "text/plain": [
       "range(0, 3500)"
      ]
     },
     "execution_count": 194,
     "metadata": {},
     "output_type": "execute_result"
    }
   ],
   "source": [
    "t['idx']"
   ]
  },
  {
   "cell_type": "code",
   "execution_count": 199,
   "id": "cd28206f-ca1b-4edf-bb00-1464bdb22d74",
   "metadata": {},
   "outputs": [],
   "source": [
    "t['str_col'][3499] = 'hello world this is a big string line, googble gobble, one of foo'"
   ]
  },
  {
   "cell_type": "code",
   "execution_count": 205,
   "id": "9e519331-950e-41cf-b5d4-6551164c3234",
   "metadata": {},
   "outputs": [],
   "source": [
    "found = [idx for idx, value in enumerate(t['str_col']) if 'foo' in value]"
   ]
  },
  {
   "cell_type": "code",
   "execution_count": 206,
   "id": "aee7b3e8-441b-4e72-bc93-de5cb3784ad2",
   "metadata": {},
   "outputs": [
    {
     "data": {
      "text/plain": [
       "[3499]"
      ]
     },
     "execution_count": 206,
     "metadata": {},
     "output_type": "execute_result"
    }
   ],
   "source": [
    "found"
   ]
  },
  {
   "cell_type": "code",
   "execution_count": 87,
   "id": "d23a9fe1-6191-48a9-8c5a-671d2bfd8c3b",
   "metadata": {},
   "outputs": [],
   "source": [
    "df['str_col'] = df['str_col'].astype('category')"
   ]
  },
  {
   "cell_type": "code",
   "execution_count": 89,
   "id": "4e451d33-36f0-4956-8722-a5fdbdefc000",
   "metadata": {},
   "outputs": [
    {
     "data": {
      "text/plain": [
       "3878"
      ]
     },
     "execution_count": 89,
     "metadata": {},
     "output_type": "execute_result"
    }
   ],
   "source": [
    "sys.getsizeof(df)"
   ]
  },
  {
   "cell_type": "code",
   "execution_count": 17,
   "id": "41916755-d86e-4931-85a7-823ac7f8cff7",
   "metadata": {},
   "outputs": [],
   "source": [
    "test = {'col': [1,2,3]}\n",
    "test['col'].extend([3,4,5])"
   ]
  },
  {
   "cell_type": "code",
   "execution_count": 18,
   "id": "1063e8c2-a42a-498a-8dab-e20be562bf9f",
   "metadata": {},
   "outputs": [
    {
     "data": {
      "text/plain": [
       "{'col': [1, 2, 3, 3, 4, 5]}"
      ]
     },
     "execution_count": 18,
     "metadata": {},
     "output_type": "execute_result"
    }
   ],
   "source": [
    "test"
   ]
  }
 ],
 "metadata": {
  "kernelspec": {
   "display_name": "math",
   "language": "python",
   "name": "math"
  },
  "language_info": {
   "codemirror_mode": {
    "name": "ipython",
    "version": 3
   },
   "file_extension": ".py",
   "mimetype": "text/x-python",
   "name": "python",
   "nbconvert_exporter": "python",
   "pygments_lexer": "ipython3",
   "version": "3.11.3"
  }
 },
 "nbformat": 4,
 "nbformat_minor": 5
}
