{
 "cells": [
  {
   "cell_type": "code",
   "execution_count": 4,
   "id": "59d66d16-8e98-4932-b537-012ac89bfcd0",
   "metadata": {},
   "outputs": [],
   "source": [
    "%load_ext autoreload\n",
    "%autoreload 2"
   ]
  },
  {
   "cell_type": "code",
   "execution_count": 100,
   "id": "7d9498be-b44a-47f8-9846-727a3c3253a0",
   "metadata": {},
   "outputs": [],
   "source": [
    "import pandas as pd\n",
    "import numpy as np\n",
    "import copy\n",
    "import sys"
   ]
  },
  {
   "cell_type": "code",
   "execution_count": 96,
   "id": "0bec1d95-77d2-4d01-a933-ea1dcd1c85c0",
   "metadata": {},
   "outputs": [],
   "source": [
    "t = {'col':['hello world this is a big string line, googble gobble, one of us' for _ in range(3500)]}"
   ]
  },
  {
   "cell_type": "code",
   "execution_count": 97,
   "id": "98e7194b-d71f-4433-b47b-0be13fc297ee",
   "metadata": {},
   "outputs": [],
   "source": [
    "df = pd.DataFrame({'col': t['col']})"
   ]
  },
  {
   "cell_type": "code",
   "execution_count": 7,
   "id": "5fc8db0c-f23e-4497-96c5-8313120ea373",
   "metadata": {},
   "outputs": [],
   "source": [
    "import bamboo as bb"
   ]
  },
  {
   "cell_type": "code",
   "execution_count": 8,
   "id": "2423be30-bbf1-492c-ac68-6b061b973351",
   "metadata": {},
   "outputs": [],
   "source": [
    "bdf = bb.DataFrame(df)"
   ]
  },
  {
   "cell_type": "code",
   "execution_count": 1,
   "id": "4f461763-133d-490e-a059-be09273bb5da",
   "metadata": {},
   "outputs": [
    {
     "ename": "NameError",
     "evalue": "name 'df' is not defined",
     "output_type": "error",
     "traceback": [
      "\u001b[0;31m---------------------------------------------------------------------------\u001b[0m",
      "\u001b[0;31mNameError\u001b[0m                                 Traceback (most recent call last)",
      "Cell \u001b[0;32mIn[1], line 1\u001b[0m\n\u001b[0;32m----> 1\u001b[0m df\n",
      "\u001b[0;31mNameError\u001b[0m: name 'df' is not defined"
     ]
    }
   ],
   "source": [
    "df"
   ]
  },
  {
   "cell_type": "code",
   "execution_count": 11,
   "id": "690a8f6b-1098-4c60-b128-4ef9a05e8b74",
   "metadata": {},
   "outputs": [
    {
     "name": "stdout",
     "output_type": "stream",
     "text": [
      "6.4 ms ± 53.2 µs per loop (mean ± std. dev. of 7 runs, 100 loops each)\n"
     ]
    }
   ],
   "source": [
    "%%timeit\n",
    "for i in range(len(df)):\n",
    "    data = df.at[i, 'col']\n",
    "    #df.at[i, 'col'] = data"
   ]
  },
  {
   "cell_type": "code",
   "execution_count": 21,
   "id": "38590265-1be2-4e3e-aecf-b5d69220d345",
   "metadata": {},
   "outputs": [
    {
     "name": "stdout",
     "output_type": "stream",
     "text": [
      "73.4 µs ± 254 ns per loop (mean ± std. dev. of 7 runs, 10,000 loops each)\n"
     ]
    }
   ],
   "source": [
    "%%timeit\n",
    "for i in range(len(t['col'])):\n",
    "    data = t['col'][i]\n",
    "    #t['col'][i] = data"
   ]
  },
  {
   "cell_type": "code",
   "execution_count": 20,
   "id": "318713f9-1527-4fc6-9c6e-87736fd0f41c",
   "metadata": {},
   "outputs": [
    {
     "name": "stdout",
     "output_type": "stream",
     "text": [
      "73.1 ms ± 462 µs per loop (mean ± std. dev. of 7 runs, 10 loops each)\n"
     ]
    }
   ],
   "source": [
    "%%timeit\n",
    "for i in range(len(df)):\n",
    "    data = df.loc[i, 'col']\n",
    "    df.loc[i, 'col'] = data"
   ]
  },
  {
   "cell_type": "code",
   "execution_count": 17,
   "id": "d47f04f1-0ae0-433e-b4b5-5ecbd8ac5d81",
   "metadata": {},
   "outputs": [
    {
     "name": "stdout",
     "output_type": "stream",
     "text": [
      "4.98 ms ± 23 µs per loop (mean ± std. dev. of 7 runs, 100 loops each)\n"
     ]
    }
   ],
   "source": [
    "%%timeit\n",
    "for i in range(len(bdf)):\n",
    "    data = bdf.at[i, 'col']"
   ]
  },
  {
   "cell_type": "code",
   "execution_count": 18,
   "id": "62e8b396-d0b5-47ee-9d7d-9f8b2cae9058",
   "metadata": {},
   "outputs": [
    {
     "name": "stdout",
     "output_type": "stream",
     "text": [
      "2.64 ms ± 27.7 µs per loop (mean ± std. dev. of 7 runs, 100 loops each)\n"
     ]
    }
   ],
   "source": [
    "%%timeit\n",
    "for i in range(len(bdf)):\n",
    "    data = bdf[i, 'col']"
   ]
  },
  {
   "cell_type": "code",
   "execution_count": 11,
   "id": "9096c0ce-84ec-4cf1-9997-77ac3573a7a8",
   "metadata": {},
   "outputs": [],
   "source": [
    "bdf2 = bb.DataFrame2(df)"
   ]
  },
  {
   "cell_type": "code",
   "execution_count": 22,
   "id": "359215ac-703a-4ae2-b6a2-65b3cc5e438c",
   "metadata": {},
   "outputs": [
    {
     "name": "stdout",
     "output_type": "stream",
     "text": [
      "2.54 ms ± 20.7 µs per loop (mean ± std. dev. of 7 runs, 100 loops each)\n"
     ]
    }
   ],
   "source": [
    "%%timeit\n",
    "for i in range(len(df)):\n",
    "    data = bdf2.at(10, 'col')"
   ]
  },
  {
   "cell_type": "code",
   "execution_count": 46,
   "id": "ede7dcc9-2dd9-412a-8ce8-74d5e035fab4",
   "metadata": {},
   "outputs": [
    {
     "name": "stdout",
     "output_type": "stream",
     "text": [
      "741 µs ± 1.5 µs per loop (mean ± std. dev. of 7 runs, 1,000 loops each)\n"
     ]
    }
   ],
   "source": [
    "%%timeit\n",
    "df.to_dict('list')"
   ]
  },
  {
   "cell_type": "code",
   "execution_count": 49,
   "id": "dfaeb0df-885a-4193-8abf-6d14e49a204f",
   "metadata": {},
   "outputs": [
    {
     "name": "stdout",
     "output_type": "stream",
     "text": [
      "27.2 µs ± 90.5 ns per loop (mean ± std. dev. of 7 runs, 10,000 loops each)\n"
     ]
    }
   ],
   "source": [
    "%%timeit\n",
    "df.col.tolist()"
   ]
  },
  {
   "cell_type": "code",
   "execution_count": 23,
   "id": "d42588b5-7a0c-4638-b3bb-7e742efd9691",
   "metadata": {},
   "outputs": [
    {
     "data": {
      "text/plain": [
       "'hello world this is a big string line, googble gobble, one of us'"
      ]
     },
     "execution_count": 23,
     "metadata": {},
     "output_type": "execute_result"
    }
   ],
   "source": [
    "df.at[10,'col']"
   ]
  },
  {
   "cell_type": "code",
   "execution_count": 36,
   "id": "c59d98a6-47fd-434e-aba3-f2ecb06a9775",
   "metadata": {},
   "outputs": [
    {
     "name": "stdout",
     "output_type": "stream",
     "text": [
      "48.6 ms ± 359 µs per loop (mean ± std. dev. of 7 runs, 10 loops each)\n"
     ]
    }
   ],
   "source": [
    "%%timeit \n",
    "for i in range(len(df)):\n",
    "    data = df['col'][i]\n",
    "    df['col'][i] = data"
   ]
  },
  {
   "cell_type": "code",
   "execution_count": 41,
   "id": "7541c941-ff69-4c50-a19f-a2206f82f5a6",
   "metadata": {},
   "outputs": [
    {
     "name": "stdout",
     "output_type": "stream",
     "text": [
      "120 µs ± 1.06 µs per loop (mean ± std. dev. of 7 runs, 10,000 loops each)\n"
     ]
    }
   ],
   "source": [
    "%%timeit \n",
    "for i in range(len(df)):\n",
    "    data = t['col'][i]\n",
    "    t['col'][i] = data"
   ]
  },
  {
   "cell_type": "code",
   "execution_count": 240,
   "id": "345d8a7e-4edb-41f2-a9f0-86eff2258eb2",
   "metadata": {},
   "outputs": [
    {
     "name": "stdout",
     "output_type": "stream",
     "text": [
      "182 µs ± 438 ns per loop (mean ± std. dev. of 7 runs, 10,000 loops each)\n"
     ]
    }
   ],
   "source": [
    "%%timeit\n",
    "def sameVal(value):\n",
    "    return value\n",
    "\n",
    "df.col.apply(sameVal)"
   ]
  },
  {
   "cell_type": "code",
   "execution_count": 29,
   "id": "7f33f6e5-8ea6-4ac3-b53d-08e0b6596dbc",
   "metadata": {},
   "outputs": [
    {
     "name": "stdout",
     "output_type": "stream",
     "text": [
      "621 µs ± 2.8 µs per loop (mean ± std. dev. of 7 runs, 1,000 loops each)\n"
     ]
    }
   ],
   "source": [
    "%%timeit\n",
    "df.col.str.contains('us')"
   ]
  },
  {
   "cell_type": "code",
   "execution_count": 31,
   "id": "e5294aa1-a4e9-497d-b2a0-aa3b6a111a90",
   "metadata": {},
   "outputs": [
    {
     "name": "stdout",
     "output_type": "stream",
     "text": [
      "214 µs ± 22.6 µs per loop (mean ± std. dev. of 7 runs, 1,000 loops each)\n"
     ]
    }
   ],
   "source": [
    "%%timeit\n",
    "[ True if 'us' in value else False for value in bb['col']]"
   ]
  },
  {
   "cell_type": "code",
   "execution_count": 35,
   "id": "fbd71261-bfe8-49ec-807a-3b81092c98a9",
   "metadata": {},
   "outputs": [
    {
     "name": "stdout",
     "output_type": "stream",
     "text": [
      "115 µs ± 344 ns per loop (mean ± std. dev. of 7 runs, 10,000 loops each)\n"
     ]
    }
   ],
   "source": [
    "%%timeit\n",
    "df.col == 'hello world this is a big string line, googble gobble, one of u'"
   ]
  },
  {
   "cell_type": "code",
   "execution_count": 45,
   "id": "540794b3-c3f6-486b-a58b-d05b705811dd",
   "metadata": {},
   "outputs": [],
   "source": [
    "#%%timeit\n",
    "test =['hello world this is a big string line, googble gobble, one of u' == value for value in  bb['col']]"
   ]
  },
  {
   "cell_type": "code",
   "execution_count": 51,
   "id": "08814eb8-0279-4eda-a192-56120045f1be",
   "metadata": {},
   "outputs": [
    {
     "name": "stdout",
     "output_type": "stream",
     "text": [
      "usage: conda-env [-h] {create,export,list,remove,update,config} ...\n",
      "\n",
      "positional arguments:\n",
      "  {create,export,list,remove,update,config}\n",
      "    create              Create an environment based on an environment file\n",
      "    export              Export a given environment\n",
      "    list                List the Conda environments\n",
      "    remove              Remove an environment\n",
      "    update              Update the current environment based on environment\n",
      "                        file\n",
      "    config              Configure a conda environment\n",
      "\n",
      "optional arguments:\n",
      "  -h, --help            Show this help message and exit.\n",
      "\n",
      "conda commands available from other packages:\n",
      "  env\n",
      "\n",
      "Note: you may need to restart the kernel to use updated packages.\n"
     ]
    }
   ],
   "source": [
    "conda env"
   ]
  },
  {
   "cell_type": "code",
   "execution_count": 42,
   "id": "2fa1e4ae-19f5-485e-b11a-1cd8af262428",
   "metadata": {},
   "outputs": [
    {
     "data": {
      "text/plain": [
       "0.5669565217391305"
      ]
     },
     "execution_count": 42,
     "metadata": {},
     "output_type": "execute_result"
    }
   ],
   "source": [
    "(115-49.8)/115"
   ]
  },
  {
   "cell_type": "code",
   "execution_count": 2,
   "id": "ff3cdb3b-3a12-4ad3-90dc-38aa3015da67",
   "metadata": {},
   "outputs": [
    {
     "name": "stdout",
     "output_type": "stream",
     "text": [
      "15\n"
     ]
    }
   ],
   "source": [
    "def recursive_sum_merge(numbers):\n",
    "    # Base case: If the list contains only one element, return that element.\n",
    "    if len(numbers) == 1:\n",
    "        return numbers[0]\n",
    "\n",
    "    # Divide the list into two halves.\n",
    "    mid = len(numbers) // 2\n",
    "    left_half = numbers[:mid]\n",
    "    right_half = numbers[mid:]\n",
    "\n",
    "    # Recursively calculate the sum of the left and right halves.\n",
    "    left_sum = recursive_sum_merge(left_half)\n",
    "    right_sum = recursive_sum_merge(right_half)\n",
    "\n",
    "    # Merge the sums of the left and right halves.\n",
    "    return left_sum + right_sum\n",
    "\n",
    "# Example usage:\n",
    "my_list = [1, 2, 3, 4, 5]\n",
    "result = recursive_sum_merge(my_list)\n",
    "print(result)  # This will print 15, which is the sum of the numbers in the list.\n",
    "\n",
    "    "
   ]
  },
  {
   "cell_type": "code",
   "execution_count": 11,
   "id": "2c8ccdb7-1c1e-434f-9f3e-2213e5ff2275",
   "metadata": {},
   "outputs": [],
   "source": [
    "nums = [num for num in range(1000)]"
   ]
  },
  {
   "cell_type": "code",
   "execution_count": 12,
   "id": "0b66ef6d-f723-4aa8-8e6a-0ef82b453d28",
   "metadata": {},
   "outputs": [],
   "source": [
    "df = pd.DataFrame({'nums' : nums})"
   ]
  },
  {
   "cell_type": "code",
   "execution_count": 14,
   "id": "f9bebad7-b0d9-4577-9563-4be46a24c847",
   "metadata": {},
   "outputs": [
    {
     "name": "stdout",
     "output_type": "stream",
     "text": [
      "19.7 µs ± 86.5 ns per loop (mean ± std. dev. of 7 runs, 10,000 loops each)\n"
     ]
    }
   ],
   "source": [
    "%%timeit\n",
    "df.nums.sum()"
   ]
  },
  {
   "cell_type": "code",
   "execution_count": 15,
   "id": "205d1b90-6c77-4166-8334-fb05969fe457",
   "metadata": {},
   "outputs": [
    {
     "name": "stdout",
     "output_type": "stream",
     "text": [
      "4.4 µs ± 12.4 ns per loop (mean ± std. dev. of 7 runs, 100,000 loops each)\n"
     ]
    }
   ],
   "source": [
    "%%timeit\n",
    "sum(nums)"
   ]
  },
  {
   "cell_type": "code",
   "execution_count": 16,
   "id": "b10ed44c-2979-4d70-ada5-359989b9a4fb",
   "metadata": {},
   "outputs": [
    {
     "name": "stdout",
     "output_type": "stream",
     "text": [
      "277 µs ± 163 ns per loop (mean ± std. dev. of 7 runs, 1,000 loops each)\n"
     ]
    }
   ],
   "source": [
    "%%timeit\n",
    "recursive_sum_merge(nums)"
   ]
  },
  {
   "cell_type": "code",
   "execution_count": 19,
   "id": "e1600a82-0540-4ff3-9709-37e6a71b1891",
   "metadata": {},
   "outputs": [],
   "source": [
    "npnums = np.array(nums)"
   ]
  },
  {
   "cell_type": "code",
   "execution_count": 22,
   "id": "4f86f1e8-2978-4e46-ae39-b6d900e3c89d",
   "metadata": {},
   "outputs": [
    {
     "name": "stdout",
     "output_type": "stream",
     "text": [
      "1.26 µs ± 1.97 ns per loop (mean ± std. dev. of 7 runs, 1,000,000 loops each)\n"
     ]
    }
   ],
   "source": [
    "%%timeit\n",
    "npnums.sum()"
   ]
  },
  {
   "cell_type": "code",
   "execution_count": 23,
   "id": "a788a360-0139-4847-a54e-1a48e4512b33",
   "metadata": {},
   "outputs": [
    {
     "name": "stdout",
     "output_type": "stream",
     "text": [
      "16.7 ms ± 22.7 µs per loop (mean ± std. dev. of 7 runs, 100 loops each)\n"
     ]
    }
   ],
   "source": [
    "%%timeit\n",
    "for i in range(len(df)):\n",
    "    data = df.at[i, 'nums']\n",
    "    df.at[i, 'nums'] = data"
   ]
  },
  {
   "cell_type": "code",
   "execution_count": 24,
   "id": "d1c8ec25-3c18-44e7-9c59-cc0a49724378",
   "metadata": {},
   "outputs": [
    {
     "name": "stdout",
     "output_type": "stream",
     "text": [
      "33.6 µs ± 303 ns per loop (mean ± std. dev. of 7 runs, 10,000 loops each)\n"
     ]
    }
   ],
   "source": [
    "%%timeit\n",
    "for i in range(len(df)):\n",
    "    data = nums[i]\n",
    "    nums[i] = data"
   ]
  },
  {
   "cell_type": "code",
   "execution_count": 26,
   "id": "1c0080c0-6593-4c8a-84fa-43aa51e6db2a",
   "metadata": {},
   "outputs": [
    {
     "name": "stdout",
     "output_type": "stream",
     "text": [
      "120 µs ± 3.74 µs per loop (mean ± std. dev. of 7 runs, 10,000 loops each)\n"
     ]
    }
   ],
   "source": [
    "%%timeit\n",
    "for i in range(len(df)):\n",
    "    data = npnums[i]\n",
    "    npnums[i] = data"
   ]
  },
  {
   "cell_type": "code",
   "execution_count": 30,
   "id": "24874717-7d47-4043-b805-232b3137161c",
   "metadata": {},
   "outputs": [
    {
     "data": {
      "text/plain": [
       "8112"
      ]
     },
     "execution_count": 30,
     "metadata": {},
     "output_type": "execute_result"
    }
   ],
   "source": [
    "sys.getsizeof(npnums)"
   ]
  },
  {
   "cell_type": "code",
   "execution_count": 31,
   "id": "011fa332-01bc-43c1-b135-f45759b69bd8",
   "metadata": {},
   "outputs": [
    {
     "data": {
      "text/plain": [
       "8856"
      ]
     },
     "execution_count": 31,
     "metadata": {},
     "output_type": "execute_result"
    }
   ],
   "source": [
    "sys.getsizeof(nums)\n"
   ]
  },
  {
   "cell_type": "code",
   "execution_count": 33,
   "id": "c8972255-0c6c-408a-b38c-8411fdab5645",
   "metadata": {},
   "outputs": [
    {
     "name": "stdout",
     "output_type": "stream",
     "text": [
      "<class 'pandas.core.frame.DataFrame'>\n",
      "RangeIndex: 1000 entries, 0 to 999\n",
      "Data columns (total 1 columns):\n",
      " #   Column  Non-Null Count  Dtype\n",
      "---  ------  --------------  -----\n",
      " 0   nums    1000 non-null   int64\n",
      "dtypes: int64(1)\n",
      "memory usage: 7.9 KB\n"
     ]
    }
   ],
   "source": [
    "df.info()"
   ]
  },
  {
   "cell_type": "code",
   "execution_count": 34,
   "id": "3ff5540c-1434-4760-9ccf-65243c6248d3",
   "metadata": {},
   "outputs": [
    {
     "data": {
      "text/plain": [
       "8132"
      ]
     },
     "execution_count": 34,
     "metadata": {},
     "output_type": "execute_result"
    }
   ],
   "source": [
    "df.memory_usage(index=True).sum()"
   ]
  },
  {
   "cell_type": "code",
   "execution_count": 37,
   "id": "784b2e8c-f96a-42fa-94e4-dbc43295f77e",
   "metadata": {},
   "outputs": [
    {
     "name": "stdout",
     "output_type": "stream",
     "text": [
      "294 µs ± 702 ns per loop (mean ± std. dev. of 7 runs, 1,000 loops each)\n"
     ]
    }
   ],
   "source": [
    "%%timeit\n",
    "#apply test \n",
    "def sameNum(x):\n",
    "    return x\n",
    "\n",
    "df['nums'] = df.nums.apply(sameNum)"
   ]
  },
  {
   "cell_type": "code",
   "execution_count": 8,
   "id": "e1a53fe0-865d-4bcc-ae2e-3d6b877f6147",
   "metadata": {},
   "outputs": [],
   "source": [
    "class bb:  \n",
    "    class DataFrame:\n",
    "        def __init__(self, data):\n",
    "            if isinstance(data, pd.DataFrame):\n",
    "                self.data = {col:data[col] for col in data.columns}\n",
    "\n",
    "            #self.at = self.__getitem__\n",
    "\n",
    "        def __getitem__(self, args):\n",
    "            index, columns = args\n",
    "            if isinstance(columns, str):\n",
    "                return self.data[columns][index]\n",
    "\n",
    "\n",
    "        def __setitem__(self, index, value):\n",
    "            self.data[index] = value\n",
    "\n",
    "        def __len__(self):\n",
    "            return len(self.data)\n",
    "\n",
    "        def __repr__(self):\n",
    "            return repr(self.data)\n",
    "\n",
    "        @property\n",
    "        def at(self):\n",
    "            return at(self)\n",
    "\n",
    "\n",
    "        class at:\n",
    "            def __init__(self, main):\n",
    "                self.main = main\n",
    "            def __getitem__(self, value):\n",
    "                return self.main[value]\n",
    "\n",
    "\n",
    "\n",
    "\n"
   ]
  },
  {
   "cell_type": "code",
   "execution_count": 10,
   "id": "185836c7-61f1-4661-8184-b8452be76f69",
   "metadata": {},
   "outputs": [
    {
     "ename": "NameError",
     "evalue": "name 'DataFrame' is not defined",
     "output_type": "error",
     "traceback": [
      "\u001b[0;31m---------------------------------------------------------------------------\u001b[0m",
      "\u001b[0;31mNameError\u001b[0m                                 Traceback (most recent call last)",
      "Cell \u001b[0;32mIn[10], line 1\u001b[0m\n\u001b[0;32m----> 1\u001b[0m test \u001b[38;5;241m=\u001b[39m DataFrame(df)\n",
      "\u001b[0;31mNameError\u001b[0m: name 'DataFrame' is not defined"
     ]
    }
   ],
   "source": [
    "test = DataFrame(df)"
   ]
  },
  {
   "cell_type": "code",
   "execution_count": 4,
   "id": "a34f7fb8-08ec-4096-8d34-cf0c59e688fd",
   "metadata": {},
   "outputs": [
    {
     "ename": "ModuleNotFoundError",
     "evalue": "No module named 'bamboo'",
     "output_type": "error",
     "traceback": [
      "\u001b[0;31m---------------------------------------------------------------------------\u001b[0m",
      "\u001b[0;31mModuleNotFoundError\u001b[0m                       Traceback (most recent call last)",
      "Cell \u001b[0;32mIn[4], line 1\u001b[0m\n\u001b[0;32m----> 1\u001b[0m \u001b[38;5;28;01mimport\u001b[39;00m \u001b[38;5;21;01mbb\u001b[39;00m\n",
      "File \u001b[0;32m~/git/bb/__init__.py:1\u001b[0m\n\u001b[0;32m----> 1\u001b[0m \u001b[38;5;28;01mfrom\u001b[39;00m \u001b[38;5;21;01mbamboo\u001b[39;00m \u001b[38;5;28;01mimport\u001b[39;00m \u001b[38;5;241m*\u001b[39m\n",
      "\u001b[0;31mModuleNotFoundError\u001b[0m: No module named 'bamboo'"
     ]
    }
   ],
   "source": [
    "import bb"
   ]
  },
  {
   "cell_type": "code",
   "execution_count": 3,
   "id": "10ac5361-6e58-453a-b31e-4d98fb1ce276",
   "metadata": {},
   "outputs": [
    {
     "data": {
      "text/plain": [
       "<module 'bb' from '/Users/daniel/git/bb/__init__.py'>"
      ]
     },
     "execution_count": 3,
     "metadata": {},
     "output_type": "execute_result"
    }
   ],
   "source": [
    "bb"
   ]
  },
  {
   "cell_type": "code",
   "execution_count": 189,
   "id": "d84b6386-b75f-4ab3-8980-c4d178ecb190",
   "metadata": {},
   "outputs": [
    {
     "ename": "AttributeError",
     "evalue": "module 'bb' has no attribute 'DataFrame'",
     "output_type": "error",
     "traceback": [
      "\u001b[0;31m---------------------------------------------------------------------------\u001b[0m",
      "\u001b[0;31mAttributeError\u001b[0m                            Traceback (most recent call last)",
      "Cell \u001b[0;32mIn[189], line 1\u001b[0m\n\u001b[0;32m----> 1\u001b[0m bb\u001b[38;5;241m.\u001b[39mDataFrame(df)\n",
      "\u001b[0;31mAttributeError\u001b[0m: module 'bb' has no attribute 'DataFrame'"
     ]
    }
   ],
   "source": [
    "bb.DataFrame(df)"
   ]
  },
  {
   "cell_type": "code",
   "execution_count": 196,
   "id": "5dd268e1-e1ac-4f85-94ff-72672e87754c",
   "metadata": {},
   "outputs": [
    {
     "ename": "TypeError",
     "evalue": "type 'at' is not subscriptable",
     "output_type": "error",
     "traceback": [
      "\u001b[0;31m---------------------------------------------------------------------------\u001b[0m",
      "\u001b[0;31mTypeError\u001b[0m                                 Traceback (most recent call last)",
      "Cell \u001b[0;32mIn[196], line 2\u001b[0m\n\u001b[1;32m      1\u001b[0m \u001b[38;5;66;03m#%%timeit\u001b[39;00m\n\u001b[0;32m----> 2\u001b[0m test\u001b[38;5;241m.\u001b[39mat[\u001b[38;5;241m10\u001b[39m, \u001b[38;5;124m'\u001b[39m\u001b[38;5;124mcol\u001b[39m\u001b[38;5;124m'\u001b[39m]\n",
      "\u001b[0;31mTypeError\u001b[0m: type 'at' is not subscriptable"
     ]
    }
   ],
   "source": [
    "#%%timeit\n",
    "test.at[10, 'col']"
   ]
  },
  {
   "cell_type": "code",
   "execution_count": 164,
   "id": "f241424e-cf4a-4d59-bfae-3583b7e5660b",
   "metadata": {},
   "outputs": [
    {
     "name": "stdout",
     "output_type": "stream",
     "text": [
      "1.24 µs ± 2.35 ns per loop (mean ± std. dev. of 7 runs, 1,000,000 loops each)\n"
     ]
    }
   ],
   "source": [
    "%%timeit\n",
    "test[10, 'col']"
   ]
  },
  {
   "cell_type": "code",
   "execution_count": 54,
   "id": "5ffdb494-f493-4fc6-9bdb-2601b485adc1",
   "metadata": {},
   "outputs": [
    {
     "name": "stdout",
     "output_type": "stream",
     "text": [
      "1.92 µs ± 5.79 ns per loop (mean ± std. dev. of 7 runs, 1,000,000 loops each)\n"
     ]
    }
   ],
   "source": [
    "%%timeit\n",
    "DataFrame(df)"
   ]
  },
  {
   "cell_type": "code",
   "execution_count": 8,
   "id": "e284864f-a377-47e9-ad3a-9d40d0f1b56b",
   "metadata": {},
   "outputs": [],
   "source": [
    "class A:\n",
    "    def __init__(self, lst):\n",
    "        self.lst = lst\n",
    "    def __getitem__(self, value):\n",
    "        return self.lst[value]\n",
    "    \n",
    "    @property\n",
    "    def b(self):\n",
    "        return B(self)\n",
    "\n",
    "class B:\n",
    "    def __init__(self, a):\n",
    "        self.a = a\n",
    "    def __getitem__(self, value):\n",
    "        return self.a[value]"
   ]
  },
  {
   "cell_type": "code",
   "execution_count": 9,
   "id": "ff550c19-90a7-485d-a123-74288654d06e",
   "metadata": {},
   "outputs": [],
   "source": [
    "x = ['a', 'b', 'c', 'd', 'e', 'f', 'g']\n",
    "a = A(x)"
   ]
  },
  {
   "cell_type": "code",
   "execution_count": 174,
   "id": "40575a3f-1d28-4806-a235-078b87b84b2c",
   "metadata": {},
   "outputs": [],
   "source": [
    "class bbDataFrame():\n",
    "    def __init__(self, data):\n",
    "        if isinstance(data, pd.DataFrame):\n",
    "            self.data = data.to_dict('list') #{col:data[col] for col in data.columns}\n",
    "            self.len = len(data)\n",
    "        elif isinstance(data, dict):\n",
    "            self.data = copy.deepcopy(data)\n",
    "            self.len = len(data[next(iter(data.keys()))])\n",
    "            \n",
    "    def __getitem__(self, value):\n",
    "        return self.data[value]\n",
    "    \n",
    "    def __repr__(self):\n",
    "        return PD(self)\n",
    "\n",
    "    \n",
    "    def __len__(self):\n",
    "        return self.len\n",
    "    \n",
    "    def columns(self):\n",
    "        return list(self.data.keys())\n",
    "    \n",
    "    @property\n",
    "    def at(self):\n",
    "        return AT(self)\n",
    "    \n",
    "    @property\n",
    "    def loc(self):\n",
    "        return LOC(self)\n",
    "    \n",
    "\n",
    "class AT:\n",
    "    def __init__(self, a):\n",
    "        self.a = a\n",
    "        \n",
    "    def __getitem__(self, args):\n",
    "        index, col = args\n",
    "        return self.a[col][index]\n",
    "    \n",
    "    def __setitem__(self, args, value):\n",
    "        index, col = args\n",
    "        self.a[col][index] = value\n",
    "        \n",
    "        \n",
    "class LOC:\n",
    "    def __init__(self, a):\n",
    "        self.a = a\n",
    "        \n",
    "    def __getitem__(self, args):\n",
    "        index_s, col = args\n",
    "        return self.a[col][index_s]\n",
    "    \n",
    "    def __setitem__(self, args, value):\n",
    "        if isinstance(args, slice):\n",
    "            for i in range(args.start,args.stop): \n",
    "                self.a[col][i] = value\n",
    "        else:\n",
    "            index, col = args\n",
    "            self.a[col][index] = value\n",
    "            \n",
    "\n",
    "class PD:\n",
    "    def __init__(self, a):\n",
    "        self.a = pd.DataFrame.from_dict(a)\n",
    "        "
   ]
  },
  {
   "cell_type": "code",
   "execution_count": 166,
   "id": "207fd008-1746-48d7-b2f4-da7528220e0c",
   "metadata": {},
   "outputs": [],
   "source": [
    "test = bbDataFrame(t)"
   ]
  },
  {
   "cell_type": "code",
   "execution_count": 175,
   "id": "35ccffb9-bcf4-4ac5-b4e0-bea436e2a901",
   "metadata": {},
   "outputs": [],
   "source": [
    "t2 = bbDataFrame(df)"
   ]
  },
  {
   "cell_type": "code",
   "execution_count": 116,
   "id": "90f349dc-f1af-4e77-9895-8c23de128961",
   "metadata": {},
   "outputs": [
    {
     "name": "stdout",
     "output_type": "stream",
     "text": [
      "74.5 ms ± 1.43 ms per loop (mean ± std. dev. of 7 runs, 10 loops each)\n"
     ]
    }
   ],
   "source": [
    "%%timeit\n",
    "for i in range(len(df)):\n",
    "    data = df.loc[i, 'col']\n",
    "    df.loc[i, 'col'] = data"
   ]
  },
  {
   "cell_type": "code",
   "execution_count": 117,
   "id": "c586e386-5560-486c-8796-428a9ce0060c",
   "metadata": {},
   "outputs": [],
   "source": [
    "first = df.col[0]"
   ]
  },
  {
   "cell_type": "code",
   "execution_count": 118,
   "id": "d59a98af-31e1-4656-8ad3-dc18e5890bd3",
   "metadata": {},
   "outputs": [
    {
     "name": "stdout",
     "output_type": "stream",
     "text": [
      "18 µs ± 65.8 ns per loop (mean ± std. dev. of 7 runs, 100,000 loops each)\n"
     ]
    }
   ],
   "source": [
    "%%timeit\n",
    "df.loc[1:500, 'col'] = first"
   ]
  },
  {
   "cell_type": "code",
   "execution_count": 119,
   "id": "7aaf38c7-ea32-4c94-a33c-5e3cb56e2975",
   "metadata": {},
   "outputs": [
    {
     "name": "stdout",
     "output_type": "stream",
     "text": [
      "1.38 ms ± 6.4 µs per loop (mean ± std. dev. of 7 runs, 1,000 loops each)\n"
     ]
    }
   ],
   "source": [
    "%%timeit\n",
    "for i in range(len(test)):\n",
    "    data = test.loc[i, 'col']\n",
    "    test.loc[i, 'col'] = data"
   ]
  },
  {
   "cell_type": "code",
   "execution_count": 120,
   "id": "5ed9a5aa-0f2b-4dec-b28a-36437b3f50a9",
   "metadata": {},
   "outputs": [
    {
     "name": "stdout",
     "output_type": "stream",
     "text": [
      "17.9 µs ± 8.88 ns per loop (mean ± std. dev. of 7 runs, 100,000 loops each)\n"
     ]
    }
   ],
   "source": [
    "%%timeit\n",
    "df.loc[1:500, 'col'] = first"
   ]
  },
  {
   "cell_type": "code",
   "execution_count": 177,
   "id": "13872801-b547-458b-8391-6487004f2e2a",
   "metadata": {},
   "outputs": [],
   "source": [
    "t2.loc[2, 'col'] = 'test'"
   ]
  },
  {
   "cell_type": "code",
   "execution_count": 179,
   "id": "6f2cbcba-74c5-4b7c-b068-975d272eabdc",
   "metadata": {},
   "outputs": [
    {
     "data": {
      "text/plain": [
       "0       hello world this is a big string line, googble...\n",
       "1                                                    test\n",
       "2       hello world this is a big string line, googble...\n",
       "3       hello world this is a big string line, googble...\n",
       "4       hello world this is a big string line, googble...\n",
       "                              ...                        \n",
       "3495    hello world this is a big string line, googble...\n",
       "3496    hello world this is a big string line, googble...\n",
       "3497    hello world this is a big string line, googble...\n",
       "3498    hello world this is a big string line, googble...\n",
       "3499    hello world this is a big string line, googble...\n",
       "Name: col, Length: 3500, dtype: object"
      ]
     },
     "execution_count": 179,
     "metadata": {},
     "output_type": "execute_result"
    }
   ],
   "source": [
    "df['col']"
   ]
  },
  {
   "cell_type": "code",
   "execution_count": 57,
   "id": "b94123e3-d0ed-4c60-ac80-defb483e7f7b",
   "metadata": {},
   "outputs": [
    {
     "name": "stdout",
     "output_type": "stream",
     "text": [
      "(1, 'col')\n"
     ]
    }
   ],
   "source": [
    "test.loc[1, 'col'] = 'test'"
   ]
  },
  {
   "cell_type": "code",
   "execution_count": 134,
   "id": "dc6dc18e-aabc-4c85-bd71-13fe7e7ff9a9",
   "metadata": {},
   "outputs": [
    {
     "ename": "ValueError",
     "evalue": "DataFrame constructor not properly called!",
     "output_type": "error",
     "traceback": [
      "\u001b[0;31m---------------------------------------------------------------------------\u001b[0m",
      "\u001b[0;31mValueError\u001b[0m                                Traceback (most recent call last)",
      "File \u001b[0;32m~/opt/miniconda3/envs/math/lib/python3.11/site-packages/IPython/core/formatters.py:708\u001b[0m, in \u001b[0;36mPlainTextFormatter.__call__\u001b[0;34m(self, obj)\u001b[0m\n\u001b[1;32m    701\u001b[0m stream \u001b[38;5;241m=\u001b[39m StringIO()\n\u001b[1;32m    702\u001b[0m printer \u001b[38;5;241m=\u001b[39m pretty\u001b[38;5;241m.\u001b[39mRepresentationPrinter(stream, \u001b[38;5;28mself\u001b[39m\u001b[38;5;241m.\u001b[39mverbose,\n\u001b[1;32m    703\u001b[0m     \u001b[38;5;28mself\u001b[39m\u001b[38;5;241m.\u001b[39mmax_width, \u001b[38;5;28mself\u001b[39m\u001b[38;5;241m.\u001b[39mnewline,\n\u001b[1;32m    704\u001b[0m     max_seq_length\u001b[38;5;241m=\u001b[39m\u001b[38;5;28mself\u001b[39m\u001b[38;5;241m.\u001b[39mmax_seq_length,\n\u001b[1;32m    705\u001b[0m     singleton_pprinters\u001b[38;5;241m=\u001b[39m\u001b[38;5;28mself\u001b[39m\u001b[38;5;241m.\u001b[39msingleton_printers,\n\u001b[1;32m    706\u001b[0m     type_pprinters\u001b[38;5;241m=\u001b[39m\u001b[38;5;28mself\u001b[39m\u001b[38;5;241m.\u001b[39mtype_printers,\n\u001b[1;32m    707\u001b[0m     deferred_pprinters\u001b[38;5;241m=\u001b[39m\u001b[38;5;28mself\u001b[39m\u001b[38;5;241m.\u001b[39mdeferred_printers)\n\u001b[0;32m--> 708\u001b[0m printer\u001b[38;5;241m.\u001b[39mpretty(obj)\n\u001b[1;32m    709\u001b[0m printer\u001b[38;5;241m.\u001b[39mflush()\n\u001b[1;32m    710\u001b[0m \u001b[38;5;28;01mreturn\u001b[39;00m stream\u001b[38;5;241m.\u001b[39mgetvalue()\n",
      "File \u001b[0;32m~/opt/miniconda3/envs/math/lib/python3.11/site-packages/IPython/lib/pretty.py:410\u001b[0m, in \u001b[0;36mRepresentationPrinter.pretty\u001b[0;34m(self, obj)\u001b[0m\n\u001b[1;32m    407\u001b[0m                         \u001b[38;5;28;01mreturn\u001b[39;00m meth(obj, \u001b[38;5;28mself\u001b[39m, cycle)\n\u001b[1;32m    408\u001b[0m                 \u001b[38;5;28;01mif\u001b[39;00m \u001b[38;5;28mcls\u001b[39m \u001b[38;5;129;01mis\u001b[39;00m \u001b[38;5;129;01mnot\u001b[39;00m \u001b[38;5;28mobject\u001b[39m \\\n\u001b[1;32m    409\u001b[0m                         \u001b[38;5;129;01mand\u001b[39;00m callable(\u001b[38;5;28mcls\u001b[39m\u001b[38;5;241m.\u001b[39m\u001b[38;5;18m__dict__\u001b[39m\u001b[38;5;241m.\u001b[39mget(\u001b[38;5;124m'\u001b[39m\u001b[38;5;124m__repr__\u001b[39m\u001b[38;5;124m'\u001b[39m)):\n\u001b[0;32m--> 410\u001b[0m                     \u001b[38;5;28;01mreturn\u001b[39;00m _repr_pprint(obj, \u001b[38;5;28mself\u001b[39m, cycle)\n\u001b[1;32m    412\u001b[0m     \u001b[38;5;28;01mreturn\u001b[39;00m _default_pprint(obj, \u001b[38;5;28mself\u001b[39m, cycle)\n\u001b[1;32m    413\u001b[0m \u001b[38;5;28;01mfinally\u001b[39;00m:\n",
      "File \u001b[0;32m~/opt/miniconda3/envs/math/lib/python3.11/site-packages/IPython/lib/pretty.py:778\u001b[0m, in \u001b[0;36m_repr_pprint\u001b[0;34m(obj, p, cycle)\u001b[0m\n\u001b[1;32m    776\u001b[0m \u001b[38;5;124;03m\"\"\"A pprint that just redirects to the normal repr function.\"\"\"\u001b[39;00m\n\u001b[1;32m    777\u001b[0m \u001b[38;5;66;03m# Find newlines and replace them with p.break_()\u001b[39;00m\n\u001b[0;32m--> 778\u001b[0m output \u001b[38;5;241m=\u001b[39m \u001b[38;5;28mrepr\u001b[39m(obj)\n\u001b[1;32m    779\u001b[0m lines \u001b[38;5;241m=\u001b[39m output\u001b[38;5;241m.\u001b[39msplitlines()\n\u001b[1;32m    780\u001b[0m \u001b[38;5;28;01mwith\u001b[39;00m p\u001b[38;5;241m.\u001b[39mgroup():\n",
      "Cell \u001b[0;32mIn[132], line 14\u001b[0m, in \u001b[0;36mbbDataFrame.__repr__\u001b[0;34m(self)\u001b[0m\n\u001b[1;32m     13\u001b[0m \u001b[38;5;28;01mdef\u001b[39;00m \u001b[38;5;21m__repr__\u001b[39m(\u001b[38;5;28mself\u001b[39m):\n\u001b[0;32m---> 14\u001b[0m     \u001b[38;5;28;01mreturn\u001b[39;00m PD(\u001b[38;5;28mself\u001b[39m)\n",
      "Cell \u001b[0;32mIn[132], line 62\u001b[0m, in \u001b[0;36mPD.__init__\u001b[0;34m(self, a)\u001b[0m\n\u001b[1;32m     61\u001b[0m \u001b[38;5;28;01mdef\u001b[39;00m \u001b[38;5;21m__init__\u001b[39m(\u001b[38;5;28mself\u001b[39m, a):\n\u001b[0;32m---> 62\u001b[0m     \u001b[38;5;28mself\u001b[39m\u001b[38;5;241m.\u001b[39ma \u001b[38;5;241m=\u001b[39m pd\u001b[38;5;241m.\u001b[39mDataFrame(a)\n",
      "File \u001b[0;32m~/opt/miniconda3/envs/math/lib/python3.11/site-packages/pandas/core/frame.py:781\u001b[0m, in \u001b[0;36mDataFrame.__init__\u001b[0;34m(self, data, index, columns, dtype, copy)\u001b[0m\n\u001b[1;32m    778\u001b[0m \u001b[38;5;66;03m# For data is scalar\u001b[39;00m\n\u001b[1;32m    779\u001b[0m \u001b[38;5;28;01melse\u001b[39;00m:\n\u001b[1;32m    780\u001b[0m     \u001b[38;5;28;01mif\u001b[39;00m index \u001b[38;5;129;01mis\u001b[39;00m \u001b[38;5;28;01mNone\u001b[39;00m \u001b[38;5;129;01mor\u001b[39;00m columns \u001b[38;5;129;01mis\u001b[39;00m \u001b[38;5;28;01mNone\u001b[39;00m:\n\u001b[0;32m--> 781\u001b[0m         \u001b[38;5;28;01mraise\u001b[39;00m \u001b[38;5;167;01mValueError\u001b[39;00m(\u001b[38;5;124m\"\u001b[39m\u001b[38;5;124mDataFrame constructor not properly called!\u001b[39m\u001b[38;5;124m\"\u001b[39m)\n\u001b[1;32m    783\u001b[0m     index \u001b[38;5;241m=\u001b[39m ensure_index(index)\n\u001b[1;32m    784\u001b[0m     columns \u001b[38;5;241m=\u001b[39m ensure_index(columns)\n",
      "\u001b[0;31mValueError\u001b[0m: DataFrame constructor not properly called!"
     ]
    }
   ],
   "source": [
    "test"
   ]
  },
  {
   "cell_type": "code",
   "execution_count": 64,
   "id": "3086d8bb-feb2-43b4-882c-e0420863a736",
   "metadata": {},
   "outputs": [
    {
     "name": "stdout",
     "output_type": "stream",
     "text": [
      "154 ns ± 0.901 ns per loop (mean ± std. dev. of 7 runs, 10,000,000 loops each)\n"
     ]
    }
   ],
   "source": [
    "%%timeit\n",
    "test.at[10,'col']"
   ]
  },
  {
   "cell_type": "code",
   "execution_count": 49,
   "id": "619e0f78-ed77-4833-bc94-45d944af4197",
   "metadata": {},
   "outputs": [
    {
     "name": "stdout",
     "output_type": "stream",
     "text": [
      "1.12 µs ± 11.6 ns per loop (mean ± std. dev. of 7 runs, 1,000,000 loops each)\n"
     ]
    }
   ],
   "source": [
    "%%timeit\n",
    "df.at[10, 'col']"
   ]
  },
  {
   "cell_type": "code",
   "execution_count": 75,
   "id": "9587de29-8859-42e0-8d51-dafe448ca6af",
   "metadata": {},
   "outputs": [
    {
     "name": "stdout",
     "output_type": "stream",
     "text": [
      "162 ns ± 0.982 ns per loop (mean ± std. dev. of 7 runs, 10,000,000 loops each)\n"
     ]
    }
   ],
   "source": [
    "%%timeit\n",
    "test.at[10,'col']"
   ]
  },
  {
   "cell_type": "code",
   "execution_count": 121,
   "id": "8fa024ef-45ce-4718-aa9c-add5d9947d6d",
   "metadata": {},
   "outputs": [
    {
     "name": "stdout",
     "output_type": "stream",
     "text": [
      "(1, 'col') it worked\n"
     ]
    }
   ],
   "source": [
    "test.at[1, 'col'] = 'it worked'"
   ]
  },
  {
   "cell_type": "code",
   "execution_count": 128,
   "id": "58827acb-98b7-4ee3-8c01-92253f8ed1ff",
   "metadata": {},
   "outputs": [
    {
     "name": "stdout",
     "output_type": "stream",
     "text": [
      "31.2 ms ± 64.3 µs per loop (mean ± std. dev. of 7 runs, 10 loops each)\n"
     ]
    }
   ],
   "source": [
    "%%timeit\n",
    "for i in range(len(df)):\n",
    "    data = df.at[i, 'col']\n",
    "    df.at[i, 'col'] = data"
   ]
  },
  {
   "cell_type": "code",
   "execution_count": 134,
   "id": "3def8815-969e-4c78-a250-e01c13c744ea",
   "metadata": {
    "tags": []
   },
   "outputs": [
    {
     "name": "stdout",
     "output_type": "stream",
     "text": [
      "1.23 ms ± 7.62 µs per loop (mean ± std. dev. of 7 runs, 1,000 loops each)\n"
     ]
    }
   ],
   "source": [
    "%%timeit\n",
    "for i in range(len(test['col'])):\n",
    "    data = test.at[i, 'col']\n",
    "    test.at[i, 'col'] = data"
   ]
  },
  {
   "cell_type": "code",
   "execution_count": 136,
   "id": "a3106f39-1dd8-4473-9bfc-1b4c0399ac2b",
   "metadata": {},
   "outputs": [
    {
     "name": "stdout",
     "output_type": "stream",
     "text": [
      "260 µs ± 2.02 µs per loop (mean ± std. dev. of 7 runs, 1,000 loops each)\n"
     ]
    }
   ],
   "source": [
    "%%timeit\n",
    "for i in range(len(test['col'])):\n",
    "    data = test['col'][i]\n",
    "    test['col'][i] = data"
   ]
  },
  {
   "cell_type": "code",
   "execution_count": 128,
   "id": "abf0959d-7639-45fd-b91d-2a9b2b61f210",
   "metadata": {},
   "outputs": [
    {
     "data": {
      "text/plain": [
       "120.0"
      ]
     },
     "execution_count": 128,
     "metadata": {},
     "output_type": "execute_result"
    }
   ],
   "source": [
    "31.2/0.26"
   ]
  },
  {
   "cell_type": "code",
   "execution_count": 56,
   "id": "07e4830d-db41-4481-a997-e7065c8a574a",
   "metadata": {},
   "outputs": [
    {
     "name": "stdout",
     "output_type": "stream",
     "text": [
      "3\n"
     ]
    }
   ],
   "source": [
    "class BamBoo(dict):\n",
    "    def __init__(self, lst):\n",
    "        self.lst = lst\n",
    "    def __getitem__(self, value):\n",
    "        return self.lst[value]\n",
    "    @property\n",
    "    def b(self):\n",
    "        return B(self)\n",
    "    @property\n",
    "    def at(self):\n",
    "        return TDF(self)\n",
    "\n",
    "class B:\n",
    "    def __init__(self, a):\n",
    "        self.a = a\n",
    "    def __getitem__(self, value):\n",
    "        return self.a[value]\n"
   ]
  },
  {
   "cell_type": "code",
   "execution_count": 59,
   "id": "5862a3c0-ff93-4267-897a-a46a22f2d977",
   "metadata": {},
   "outputs": [],
   "source": [
    "# Create an instance of CustomList\n",
    "my_list = CustomList(['hello world this is a big string line, googble gobble, one of us' for _ in range(3500)])"
   ]
  },
  {
   "cell_type": "code",
   "execution_count": 75,
   "id": "ddab973d-7f2e-4df3-a4a0-62062697fddf",
   "metadata": {},
   "outputs": [
    {
     "data": {
      "text/html": [
       "<div>\n",
       "<style scoped>\n",
       "    .dataframe tbody tr th:only-of-type {\n",
       "        vertical-align: middle;\n",
       "    }\n",
       "\n",
       "    .dataframe tbody tr th {\n",
       "        vertical-align: top;\n",
       "    }\n",
       "\n",
       "    .dataframe thead th {\n",
       "        text-align: right;\n",
       "    }\n",
       "</style>\n",
       "<table border=\"1\" class=\"dataframe\">\n",
       "  <thead>\n",
       "    <tr style=\"text-align: right;\">\n",
       "      <th></th>\n",
       "      <th>col</th>\n",
       "      <th>col2</th>\n",
       "    </tr>\n",
       "  </thead>\n",
       "  <tbody>\n",
       "    <tr>\n",
       "      <th>0</th>\n",
       "      <td>hello world this is a big string line, googble...</td>\n",
       "      <td>None</td>\n",
       "    </tr>\n",
       "    <tr>\n",
       "      <th>1</th>\n",
       "      <td>hello world this is a big string line, googble...</td>\n",
       "      <td>None</td>\n",
       "    </tr>\n",
       "    <tr>\n",
       "      <th>2</th>\n",
       "      <td>hello world this is a big string line, googble...</td>\n",
       "      <td>None</td>\n",
       "    </tr>\n",
       "    <tr>\n",
       "      <th>3</th>\n",
       "      <td>hello world this is a big string line, googble...</td>\n",
       "      <td>None</td>\n",
       "    </tr>\n",
       "    <tr>\n",
       "      <th>4</th>\n",
       "      <td>hello world this is a big string line, googble...</td>\n",
       "      <td>None</td>\n",
       "    </tr>\n",
       "    <tr>\n",
       "      <th>...</th>\n",
       "      <td>...</td>\n",
       "      <td>...</td>\n",
       "    </tr>\n",
       "    <tr>\n",
       "      <th>3495</th>\n",
       "      <td>hello world this is a big string line, googble...</td>\n",
       "      <td>None</td>\n",
       "    </tr>\n",
       "    <tr>\n",
       "      <th>3496</th>\n",
       "      <td>hello world this is a big string line, googble...</td>\n",
       "      <td>None</td>\n",
       "    </tr>\n",
       "    <tr>\n",
       "      <th>3497</th>\n",
       "      <td>hello world this is a big string line, googble...</td>\n",
       "      <td>None</td>\n",
       "    </tr>\n",
       "    <tr>\n",
       "      <th>3498</th>\n",
       "      <td>hello world this is a big string line, googble...</td>\n",
       "      <td>None</td>\n",
       "    </tr>\n",
       "    <tr>\n",
       "      <th>3499</th>\n",
       "      <td>hello world this is a big string line, googble...</td>\n",
       "      <td>None</td>\n",
       "    </tr>\n",
       "  </tbody>\n",
       "</table>\n",
       "<p>3500 rows × 2 columns</p>\n",
       "</div>"
      ],
      "text/plain": [
       "                                                    col  col2\n",
       "0     hello world this is a big string line, googble...  None\n",
       "1     hello world this is a big string line, googble...  None\n",
       "2     hello world this is a big string line, googble...  None\n",
       "3     hello world this is a big string line, googble...  None\n",
       "4     hello world this is a big string line, googble...  None\n",
       "...                                                 ...   ...\n",
       "3495  hello world this is a big string line, googble...  None\n",
       "3496  hello world this is a big string line, googble...  None\n",
       "3497  hello world this is a big string line, googble...  None\n",
       "3498  hello world this is a big string line, googble...  None\n",
       "3499  hello world this is a big string line, googble...  None\n",
       "\n",
       "[3500 rows x 2 columns]"
      ]
     },
     "execution_count": 75,
     "metadata": {},
     "output_type": "execute_result"
    }
   ],
   "source": [
    "df[['col','col2']].loc[df['col2'].isna()]"
   ]
  },
  {
   "cell_type": "code",
   "execution_count": 77,
   "id": "94e08f8c-fac7-4c06-90e2-76f6206add1a",
   "metadata": {},
   "outputs": [
    {
     "data": {
      "text/plain": [
       "'hello world this is a big string line, googble gobble, one of us'"
      ]
     },
     "execution_count": 77,
     "metadata": {},
     "output_type": "execute_result"
    }
   ],
   "source": [
    "df['col'][3]"
   ]
  },
  {
   "cell_type": "code",
   "execution_count": 24,
   "id": "7808ed0a-e0d1-4dcb-8a46-7046972b73e1",
   "metadata": {},
   "outputs": [],
   "source": [
    "class CustomDict(dict):\n",
    "    def test(self):\n",
    "        # Your custom code here\n",
    "        return \"This is a custom method for CustomList\"\n",
    "\n",
    "    def __getitem__(self, keys):\n",
    "        if isinstance(keys, str):\n",
    "            return super().__getitem__(keys)\n",
    "        return {key:super().__getitem__(key) for key in keys}\n",
    "    \n",
    "    def __getattr__(self, name):\n",
    "        # This method is called when an attribute or method is not found\n",
    "        return lambda *args, **kwargs: f\"{name} does not exist.\"\n",
    "    \n",
    "    def __repr__(self):\n",
    "        return dict(self)\n",
    "    \n",
    "    \n",
    "    def to_pd(self):\n",
    "        return pd.DataFrame(self)\n",
    "    \n",
    "    @property\n",
    "    def at(self,value):\n",
    "        print(value)\n",
    "        return B(self)\n",
    "    \n",
    "class B:\n",
    "    def __init__(self, a):\n",
    "        self.a = a\n",
    "    def __getitem__(self, value):\n",
    "        return self.a[value]   \n",
    "\n"
   ]
  },
  {
   "cell_type": "code",
   "execution_count": 25,
   "id": "02b1aaf1-afde-468c-aa7f-41dab18469eb",
   "metadata": {},
   "outputs": [],
   "source": [
    "test = CustomDict(t)"
   ]
  },
  {
   "cell_type": "code",
   "execution_count": 26,
   "id": "e4b33b72-25b4-48f4-9f7e-dd76e353c950",
   "metadata": {
    "tags": []
   },
   "outputs": [
    {
     "ename": "TypeError",
     "evalue": "CustomDict.at() missing 1 required positional argument: 'value'",
     "output_type": "error",
     "traceback": [
      "\u001b[0;31m---------------------------------------------------------------------------\u001b[0m",
      "\u001b[0;31mTypeError\u001b[0m                                 Traceback (most recent call last)",
      "Cell \u001b[0;32mIn[26], line 1\u001b[0m\n\u001b[0;32m----> 1\u001b[0m test\u001b[38;5;241m.\u001b[39mat[\u001b[38;5;241m10\u001b[39m, \u001b[38;5;124m'\u001b[39m\u001b[38;5;124mcol\u001b[39m\u001b[38;5;124m'\u001b[39m]\n",
      "\u001b[0;31mTypeError\u001b[0m: CustomDict.at() missing 1 required positional argument: 'value'"
     ]
    }
   ],
   "source": [
    "test.at[10, 'col']"
   ]
  },
  {
   "cell_type": "code",
   "execution_count": 159,
   "id": "499a22c9-3011-439f-9bfc-91e0e8b5c623",
   "metadata": {},
   "outputs": [
    {
     "name": "stdout",
     "output_type": "stream",
     "text": [
      "171 µs ± 870 ns per loop (mean ± std. dev. of 7 runs, 10,000 loops each)\n"
     ]
    }
   ],
   "source": [
    "%%timeit \n",
    "for i in range(len(test['col'])):\n",
    "    data = test['col'][i]\n",
    "    test['col'][i] = data"
   ]
  },
  {
   "cell_type": "code",
   "execution_count": 214,
   "id": "630ae167-8b49-46e5-8f6b-12bba34ae438",
   "metadata": {
    "collapsed": true,
    "jupyter": {
     "outputs_hidden": true
    },
    "tags": []
   },
   "outputs": [
    {
     "ename": "TypeError",
     "evalue": "expected 0 arguments, got 1",
     "output_type": "error",
     "traceback": [
      "\u001b[0;31m---------------------------------------------------------------------------\u001b[0m",
      "\u001b[0;31mTypeError\u001b[0m                                 Traceback (most recent call last)",
      "File \u001b[0;32m~/opt/miniconda3/envs/math/lib/python3.11/site-packages/IPython/core/formatters.py:708\u001b[0m, in \u001b[0;36mPlainTextFormatter.__call__\u001b[0;34m(self, obj)\u001b[0m\n\u001b[1;32m    701\u001b[0m stream \u001b[38;5;241m=\u001b[39m StringIO()\n\u001b[1;32m    702\u001b[0m printer \u001b[38;5;241m=\u001b[39m pretty\u001b[38;5;241m.\u001b[39mRepresentationPrinter(stream, \u001b[38;5;28mself\u001b[39m\u001b[38;5;241m.\u001b[39mverbose,\n\u001b[1;32m    703\u001b[0m     \u001b[38;5;28mself\u001b[39m\u001b[38;5;241m.\u001b[39mmax_width, \u001b[38;5;28mself\u001b[39m\u001b[38;5;241m.\u001b[39mnewline,\n\u001b[1;32m    704\u001b[0m     max_seq_length\u001b[38;5;241m=\u001b[39m\u001b[38;5;28mself\u001b[39m\u001b[38;5;241m.\u001b[39mmax_seq_length,\n\u001b[1;32m    705\u001b[0m     singleton_pprinters\u001b[38;5;241m=\u001b[39m\u001b[38;5;28mself\u001b[39m\u001b[38;5;241m.\u001b[39msingleton_printers,\n\u001b[1;32m    706\u001b[0m     type_pprinters\u001b[38;5;241m=\u001b[39m\u001b[38;5;28mself\u001b[39m\u001b[38;5;241m.\u001b[39mtype_printers,\n\u001b[1;32m    707\u001b[0m     deferred_pprinters\u001b[38;5;241m=\u001b[39m\u001b[38;5;28mself\u001b[39m\u001b[38;5;241m.\u001b[39mdeferred_printers)\n\u001b[0;32m--> 708\u001b[0m printer\u001b[38;5;241m.\u001b[39mpretty(obj)\n\u001b[1;32m    709\u001b[0m printer\u001b[38;5;241m.\u001b[39mflush()\n\u001b[1;32m    710\u001b[0m \u001b[38;5;28;01mreturn\u001b[39;00m stream\u001b[38;5;241m.\u001b[39mgetvalue()\n",
      "File \u001b[0;32m~/opt/miniconda3/envs/math/lib/python3.11/site-packages/IPython/lib/pretty.py:410\u001b[0m, in \u001b[0;36mRepresentationPrinter.pretty\u001b[0;34m(self, obj)\u001b[0m\n\u001b[1;32m    407\u001b[0m                         \u001b[38;5;28;01mreturn\u001b[39;00m meth(obj, \u001b[38;5;28mself\u001b[39m, cycle)\n\u001b[1;32m    408\u001b[0m                 \u001b[38;5;28;01mif\u001b[39;00m \u001b[38;5;28mcls\u001b[39m \u001b[38;5;129;01mis\u001b[39;00m \u001b[38;5;129;01mnot\u001b[39;00m \u001b[38;5;28mobject\u001b[39m \\\n\u001b[1;32m    409\u001b[0m                         \u001b[38;5;129;01mand\u001b[39;00m callable(\u001b[38;5;28mcls\u001b[39m\u001b[38;5;241m.\u001b[39m\u001b[38;5;18m__dict__\u001b[39m\u001b[38;5;241m.\u001b[39mget(\u001b[38;5;124m'\u001b[39m\u001b[38;5;124m__repr__\u001b[39m\u001b[38;5;124m'\u001b[39m)):\n\u001b[0;32m--> 410\u001b[0m                     \u001b[38;5;28;01mreturn\u001b[39;00m _repr_pprint(obj, \u001b[38;5;28mself\u001b[39m, cycle)\n\u001b[1;32m    412\u001b[0m     \u001b[38;5;28;01mreturn\u001b[39;00m _default_pprint(obj, \u001b[38;5;28mself\u001b[39m, cycle)\n\u001b[1;32m    413\u001b[0m \u001b[38;5;28;01mfinally\u001b[39;00m:\n",
      "File \u001b[0;32m~/opt/miniconda3/envs/math/lib/python3.11/site-packages/IPython/lib/pretty.py:778\u001b[0m, in \u001b[0;36m_repr_pprint\u001b[0;34m(obj, p, cycle)\u001b[0m\n\u001b[1;32m    776\u001b[0m \u001b[38;5;124;03m\"\"\"A pprint that just redirects to the normal repr function.\"\"\"\u001b[39;00m\n\u001b[1;32m    777\u001b[0m \u001b[38;5;66;03m# Find newlines and replace them with p.break_()\u001b[39;00m\n\u001b[0;32m--> 778\u001b[0m output \u001b[38;5;241m=\u001b[39m \u001b[38;5;28mrepr\u001b[39m(obj)\n\u001b[1;32m    779\u001b[0m lines \u001b[38;5;241m=\u001b[39m output\u001b[38;5;241m.\u001b[39msplitlines()\n\u001b[1;32m    780\u001b[0m \u001b[38;5;28;01mwith\u001b[39;00m p\u001b[38;5;241m.\u001b[39mgroup():\n",
      "Cell \u001b[0;32mIn[212], line 16\u001b[0m, in \u001b[0;36mCustomDict.__repr__\u001b[0;34m(self)\u001b[0m\n\u001b[1;32m     15\u001b[0m \u001b[38;5;28;01mdef\u001b[39;00m \u001b[38;5;21m__repr__\u001b[39m(\u001b[38;5;28mself\u001b[39m):\n\u001b[0;32m---> 16\u001b[0m     \u001b[38;5;28;01mreturn\u001b[39;00m \u001b[38;5;28msuper\u001b[39m()\u001b[38;5;241m.\u001b[39m\u001b[38;5;21m__repr__\u001b[39m(\u001b[38;5;28mself\u001b[39m)\n",
      "\u001b[0;31mTypeError\u001b[0m: expected 0 arguments, got 1"
     ]
    }
   ],
   "source": [
    "test"
   ]
  },
  {
   "cell_type": "code",
   "execution_count": 104,
   "id": "a68493b5-c1fc-4031-9140-27829eaa1105",
   "metadata": {},
   "outputs": [
    {
     "data": {
      "text/plain": [
       "3500"
      ]
     },
     "execution_count": 104,
     "metadata": {},
     "output_type": "execute_result"
    }
   ],
   "source": [
    "len(test['col'])"
   ]
  },
  {
   "cell_type": "code",
   "execution_count": 117,
   "id": "388ce997-81b3-4b16-850a-73f4a80ab228",
   "metadata": {},
   "outputs": [
    {
     "data": {
      "text/html": [
       "<div>\n",
       "<style scoped>\n",
       "    .dataframe tbody tr th:only-of-type {\n",
       "        vertical-align: middle;\n",
       "    }\n",
       "\n",
       "    .dataframe tbody tr th {\n",
       "        vertical-align: top;\n",
       "    }\n",
       "\n",
       "    .dataframe thead th {\n",
       "        text-align: right;\n",
       "    }\n",
       "</style>\n",
       "<table border=\"1\" class=\"dataframe\">\n",
       "  <thead>\n",
       "    <tr style=\"text-align: right;\">\n",
       "      <th></th>\n",
       "      <th>col</th>\n",
       "      <th>col2</th>\n",
       "    </tr>\n",
       "  </thead>\n",
       "  <tbody>\n",
       "  </tbody>\n",
       "</table>\n",
       "</div>"
      ],
      "text/plain": [
       "Empty DataFrame\n",
       "Columns: [col, col2]\n",
       "Index: []"
      ]
     },
     "execution_count": 117,
     "metadata": {},
     "output_type": "execute_result"
    }
   ],
   "source": [
    "df[df.col == True]"
   ]
  },
  {
   "cell_type": "code",
   "execution_count": 118,
   "id": "0839ace5-0732-4c72-b639-bb0828800dfb",
   "metadata": {},
   "outputs": [],
   "source": [
    "test['col'][1] = 'hello world'"
   ]
  },
  {
   "cell_type": "code",
   "execution_count": 147,
   "id": "6ddbc7c6-cd0f-4033-8d43-1f462ee84b7c",
   "metadata": {},
   "outputs": [
    {
     "data": {
      "text/plain": [
       "208"
      ]
     },
     "execution_count": 147,
     "metadata": {},
     "output_type": "execute_result"
    }
   ],
   "source": [
    "sys.getsizeof(test)"
   ]
  },
  {
   "cell_type": "code",
   "execution_count": 148,
   "id": "d7fb247e-72b7-4037-a2ec-c4f51ab8b6da",
   "metadata": {},
   "outputs": [
    {
     "data": {
      "text/plain": [
       "29336"
      ]
     },
     "execution_count": 148,
     "metadata": {},
     "output_type": "execute_result"
    }
   ],
   "source": [
    "sys.getsizeof(test['col'])"
   ]
  },
  {
   "cell_type": "code",
   "execution_count": 155,
   "id": "d481b7de-280e-4c4a-ba1e-8658d87926ab",
   "metadata": {},
   "outputs": [
    {
     "data": {
      "text/plain": [
       "Index       132\n",
       "col      423500\n",
       "col2      84000\n",
       "dtype: int64"
      ]
     },
     "execution_count": 155,
     "metadata": {},
     "output_type": "execute_result"
    }
   ],
   "source": [
    "df.memory_usage(deep=True)"
   ]
  },
  {
   "cell_type": "code",
   "execution_count": 156,
   "id": "42cc06b4-f322-44dd-8d3e-262650ec82c8",
   "metadata": {},
   "outputs": [
    {
     "data": {
      "text/html": [
       "<div>\n",
       "<style scoped>\n",
       "    .dataframe tbody tr th:only-of-type {\n",
       "        vertical-align: middle;\n",
       "    }\n",
       "\n",
       "    .dataframe tbody tr th {\n",
       "        vertical-align: top;\n",
       "    }\n",
       "\n",
       "    .dataframe thead th {\n",
       "        text-align: right;\n",
       "    }\n",
       "</style>\n",
       "<table border=\"1\" class=\"dataframe\">\n",
       "  <thead>\n",
       "    <tr style=\"text-align: right;\">\n",
       "      <th></th>\n",
       "      <th>col</th>\n",
       "      <th>col2</th>\n",
       "    </tr>\n",
       "  </thead>\n",
       "  <tbody>\n",
       "    <tr>\n",
       "      <th>0</th>\n",
       "      <td>hello world this is a big string line, googble...</td>\n",
       "      <td>None</td>\n",
       "    </tr>\n",
       "    <tr>\n",
       "      <th>1</th>\n",
       "      <td>hello world this is a big string line, googble...</td>\n",
       "      <td>None</td>\n",
       "    </tr>\n",
       "    <tr>\n",
       "      <th>2</th>\n",
       "      <td>hello world this is a big string line, googble...</td>\n",
       "      <td>None</td>\n",
       "    </tr>\n",
       "    <tr>\n",
       "      <th>3</th>\n",
       "      <td>hello world this is a big string line, googble...</td>\n",
       "      <td>None</td>\n",
       "    </tr>\n",
       "    <tr>\n",
       "      <th>4</th>\n",
       "      <td>hello world this is a big string line, googble...</td>\n",
       "      <td>None</td>\n",
       "    </tr>\n",
       "    <tr>\n",
       "      <th>...</th>\n",
       "      <td>...</td>\n",
       "      <td>...</td>\n",
       "    </tr>\n",
       "    <tr>\n",
       "      <th>3495</th>\n",
       "      <td>hello world this is a big string line, googble...</td>\n",
       "      <td>None</td>\n",
       "    </tr>\n",
       "    <tr>\n",
       "      <th>3496</th>\n",
       "      <td>hello world this is a big string line, googble...</td>\n",
       "      <td>None</td>\n",
       "    </tr>\n",
       "    <tr>\n",
       "      <th>3497</th>\n",
       "      <td>hello world this is a big string line, googble...</td>\n",
       "      <td>None</td>\n",
       "    </tr>\n",
       "    <tr>\n",
       "      <th>3498</th>\n",
       "      <td>hello world this is a big string line, googble...</td>\n",
       "      <td>None</td>\n",
       "    </tr>\n",
       "    <tr>\n",
       "      <th>3499</th>\n",
       "      <td>hello world this is a big string line, googble...</td>\n",
       "      <td>None</td>\n",
       "    </tr>\n",
       "  </tbody>\n",
       "</table>\n",
       "<p>3500 rows × 2 columns</p>\n",
       "</div>"
      ],
      "text/plain": [
       "                                                    col  col2\n",
       "0     hello world this is a big string line, googble...  None\n",
       "1     hello world this is a big string line, googble...  None\n",
       "2     hello world this is a big string line, googble...  None\n",
       "3     hello world this is a big string line, googble...  None\n",
       "4     hello world this is a big string line, googble...  None\n",
       "...                                                 ...   ...\n",
       "3495  hello world this is a big string line, googble...  None\n",
       "3496  hello world this is a big string line, googble...  None\n",
       "3497  hello world this is a big string line, googble...  None\n",
       "3498  hello world this is a big string line, googble...  None\n",
       "3499  hello world this is a big string line, googble...  None\n",
       "\n",
       "[3500 rows x 2 columns]"
      ]
     },
     "execution_count": 156,
     "metadata": {},
     "output_type": "execute_result"
    }
   ],
   "source": [
    "df"
   ]
  },
  {
   "cell_type": "code",
   "execution_count": 210,
   "id": "766f1329-5ba3-4a16-ae25-88641853e3f2",
   "metadata": {},
   "outputs": [
    {
     "name": "stdout",
     "output_type": "stream",
     "text": [
      "610 µs ± 3.85 µs per loop (mean ± std. dev. of 7 runs, 1,000 loops each)\n"
     ]
    }
   ],
   "source": [
    "%%timeit\n",
    "df.loc[df.col.str.contains('foo')]"
   ]
  },
  {
   "cell_type": "code",
   "execution_count": 183,
   "id": "71c3fa0a-2400-4a57-b238-0ecb1fe28bba",
   "metadata": {},
   "outputs": [
    {
     "name": "stdout",
     "output_type": "stream",
     "text": [
      "401 µs ± 2.16 µs per loop (mean ± std. dev. of 7 runs, 1,000 loops each)\n"
     ]
    }
   ],
   "source": [
    "%%timeit\n",
    "found = [True if 'us' in value else False for value in t['col']]\n",
    "subset = {}\n",
    "for col in t.keys():\n",
    "    data =[t[col][i] for i in range(len(df)) if found[i]]\n",
    "    subset[col] = data"
   ]
  },
  {
   "cell_type": "code",
   "execution_count": 203,
   "id": "ea707694-192f-4b65-8cbb-87b0fac30e5c",
   "metadata": {},
   "outputs": [
    {
     "name": "stdout",
     "output_type": "stream",
     "text": [
      "291 µs ± 1.89 µs per loop (mean ± std. dev. of 7 runs, 1,000 loops each)\n"
     ]
    }
   ],
   "source": [
    "%%timeit\n",
    "found = [True if 'foo' in value else False for value in t['col']]\n",
    "{col: [t[col][i] for i in range(len(t['col'])) if found[i]] for col in t.keys()}"
   ]
  },
  {
   "cell_type": "code",
   "execution_count": 211,
   "id": "0b45994f-3f03-4e26-8e85-e3ab98f6b381",
   "metadata": {},
   "outputs": [
    {
     "name": "stdout",
     "output_type": "stream",
     "text": [
      "173 µs ± 800 ns per loop (mean ± std. dev. of 7 runs, 10,000 loops each)\n"
     ]
    }
   ],
   "source": [
    "%%timeit\n",
    "found = [idx for idx, value in enumerate(t['col']) if 'foo' in value]\n",
    "subset = {col: [t[col][i] for i in found] for col in t.keys()}"
   ]
  },
  {
   "cell_type": "code",
   "execution_count": 194,
   "id": "fe27020a-ca0d-439c-a08d-9f237982abd8",
   "metadata": {},
   "outputs": [
    {
     "data": {
      "text/plain": [
       "range(0, 3500)"
      ]
     },
     "execution_count": 194,
     "metadata": {},
     "output_type": "execute_result"
    }
   ],
   "source": [
    "t['idx']"
   ]
  },
  {
   "cell_type": "code",
   "execution_count": 199,
   "id": "cd28206f-ca1b-4edf-bb00-1464bdb22d74",
   "metadata": {},
   "outputs": [],
   "source": [
    "t['col'][3499] = 'hello world this is a big string line, googble gobble, one of foo'"
   ]
  },
  {
   "cell_type": "code",
   "execution_count": 205,
   "id": "9e519331-950e-41cf-b5d4-6551164c3234",
   "metadata": {},
   "outputs": [],
   "source": [
    "found = [idx for idx, value in enumerate(t['col']) if 'foo' in value]"
   ]
  },
  {
   "cell_type": "code",
   "execution_count": 206,
   "id": "aee7b3e8-441b-4e72-bc93-de5cb3784ad2",
   "metadata": {},
   "outputs": [
    {
     "data": {
      "text/plain": [
       "[3499]"
      ]
     },
     "execution_count": 206,
     "metadata": {},
     "output_type": "execute_result"
    }
   ],
   "source": [
    "found"
   ]
  },
  {
   "cell_type": "code",
   "execution_count": null,
   "id": "d23a9fe1-6191-48a9-8c5a-671d2bfd8c3b",
   "metadata": {},
   "outputs": [],
   "source": [
    "import pandas as pd\n",
    "\n",
    "data = {'Target_Value': [10, 20, 30, 40, 50],\n",
    "        'Search_Column': [12, 22, 35, 42, 55]}\n",
    "\n",
    "df = pd.DataFrame(data)\n"
   ]
  },
  {
   "cell_type": "code",
   "execution_count": null,
   "id": "8ea9007e-d776-41a0-aaf6-ce3e461d59ab",
   "metadata": {},
   "outputs": [],
   "source": [
    "sdf "
   ]
  }
 ],
 "metadata": {
  "kernelspec": {
   "display_name": "math",
   "language": "python",
   "name": "math"
  },
  "language_info": {
   "codemirror_mode": {
    "name": "ipython",
    "version": 3
   },
   "file_extension": ".py",
   "mimetype": "text/x-python",
   "name": "python",
   "nbconvert_exporter": "python",
   "pygments_lexer": "ipython3",
   "version": "3.10.11"
  }
 },
 "nbformat": 4,
 "nbformat_minor": 5
}
