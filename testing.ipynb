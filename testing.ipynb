{
 "cells": [
  {
   "cell_type": "code",
   "execution_count": 1,
   "id": "59d66d16-8e98-4932-b537-012ac89bfcd0",
   "metadata": {},
   "outputs": [],
   "source": [
    "%load_ext autoreload\n",
    "%autoreload 2"
   ]
  },
  {
   "cell_type": "code",
   "execution_count": 2,
   "id": "7d9498be-b44a-47f8-9846-727a3c3253a0",
   "metadata": {},
   "outputs": [],
   "source": [
    "import pandas as pd\n",
    "import numpy as np\n",
    "import copy\n",
    "import sys"
   ]
  },
  {
   "cell_type": "code",
   "execution_count": 3,
   "id": "5fc8db0c-f23e-4497-96c5-8313120ea373",
   "metadata": {},
   "outputs": [],
   "source": [
    "from bamboo import bamboo as bb"
   ]
  },
  {
   "cell_type": "markdown",
   "id": "f1155d0a-6a38-46b5-84a9-db7182046ce6",
   "metadata": {},
   "source": [
    "# base functions"
   ]
  },
  {
   "cell_type": "code",
   "execution_count": 4,
   "id": "0bec1d95-77d2-4d01-a933-ea1dcd1c85c0",
   "metadata": {},
   "outputs": [],
   "source": [
    "data = {'str_col':['hello world this is a big string line, pandas is stronger with bamboo' for _ in range(3500)]}"
   ]
  },
  {
   "cell_type": "code",
   "execution_count": 44,
   "id": "cc818e55-6b41-47af-bdbb-a45f415cd30a",
   "metadata": {},
   "outputs": [],
   "source": [
    "data = {'col'+str(i): ['hello world this is a big string line, pandas is stronger with bamboo' for _ in range(3500)] for i in range(10)}"
   ]
  },
  {
   "cell_type": "code",
   "execution_count": 45,
   "id": "7cfb73a0-8048-4572-8ef5-00d44ff5f1b1",
   "metadata": {},
   "outputs": [],
   "source": [
    "df = pd.DataFrame(data)\n",
    "bdf = bb.DataFrame(data)"
   ]
  },
  {
   "cell_type": "markdown",
   "id": "0231f2b6-74a5-4726-8a5d-d5dd26d1f1f9",
   "metadata": {},
   "source": [
    "### Create DataFrame"
   ]
  },
  {
   "cell_type": "code",
   "execution_count": 186,
   "id": "98e7194b-d71f-4433-b47b-0be13fc297ee",
   "metadata": {},
   "outputs": [
    {
     "name": "stdout",
     "output_type": "stream",
     "text": [
      "101 µs ± 538 ns per loop (mean ± std. dev. of 7 runs, 10,000 loops each)\n"
     ]
    }
   ],
   "source": [
    "%%timeit\n",
    "df = pd.DataFrame(data)"
   ]
  },
  {
   "cell_type": "code",
   "execution_count": 187,
   "id": "2423be30-bbf1-492c-ac68-6b061b973351",
   "metadata": {},
   "outputs": [
    {
     "name": "stdout",
     "output_type": "stream",
     "text": [
      "9.07 µs ± 32.3 ns per loop (mean ± std. dev. of 7 runs, 100,000 loops each)\n"
     ]
    }
   ],
   "source": [
    "%%timeit\n",
    "bdf = bb.DataFrame(df)"
   ]
  },
  {
   "cell_type": "code",
   "execution_count": 188,
   "id": "028cc8d5-e466-49df-b51f-462ef3eeb12d",
   "metadata": {},
   "outputs": [
    {
     "name": "stdout",
     "output_type": "stream",
     "text": [
      "4.72 µs ± 108 ns per loop (mean ± std. dev. of 7 runs, 100,000 loops each)\n"
     ]
    }
   ],
   "source": [
    "%%timeit\n",
    "bdf = bb.DataFrame(data)"
   ]
  },
  {
   "cell_type": "code",
   "execution_count": 6,
   "id": "d2669a6a-6e55-4350-9401-55935cbd523c",
   "metadata": {},
   "outputs": [
    {
     "name": "stdout",
     "output_type": "stream",
     "text": [
      "71 ms ± 596 µs per loop (mean ± std. dev. of 7 runs, 10 loops each)\n"
     ]
    }
   ],
   "source": []
  },
  {
   "cell_type": "markdown",
   "id": "1aab7e73-5392-41ef-93dc-2864a6342f42",
   "metadata": {},
   "source": [
    "### at"
   ]
  },
  {
   "cell_type": "code",
   "execution_count": 189,
   "id": "690a8f6b-1098-4c60-b128-4ef9a05e8b74",
   "metadata": {},
   "outputs": [
    {
     "name": "stdout",
     "output_type": "stream",
     "text": [
      "127 ms ± 177 µs per loop (mean ± std. dev. of 7 runs, 10 loops each)\n"
     ]
    }
   ],
   "source": [
    "%%timeit\n",
    "for i in range(len(df)):\n",
    "    value = df.at[i, 'str_col']\n",
    "    df.at[i, 'str_col'] = value"
   ]
  },
  {
   "cell_type": "code",
   "execution_count": 7,
   "id": "9ff37025-37dc-480b-ac24-d855d5fe31b1",
   "metadata": {},
   "outputs": [
    {
     "name": "stdout",
     "output_type": "stream",
     "text": [
      "70.9 ms ± 596 µs per loop (mean ± std. dev. of 7 runs, 10 loops each)\n"
     ]
    }
   ],
   "source": [
    "%%timeit\n",
    "for row in df.itertuples():\n",
    "    value = row.str_col\n",
    "    df.at[row.Index, 'str_col'] = value"
   ]
  },
  {
   "cell_type": "code",
   "execution_count": 190,
   "id": "d47f04f1-0ae0-433e-b4b5-5ecbd8ac5d81",
   "metadata": {},
   "outputs": [
    {
     "name": "stdout",
     "output_type": "stream",
     "text": [
      "2.97 ms ± 20.6 µs per loop (mean ± std. dev. of 7 runs, 100 loops each)\n"
     ]
    }
   ],
   "source": [
    "%%timeit\n",
    "for i in range(len(bdf)):\n",
    "    value = bdf.at[i, 'str_col']\n",
    "    bdf.at[i, 'str_col'] = value"
   ]
  },
  {
   "cell_type": "code",
   "execution_count": 191,
   "id": "38590265-1be2-4e3e-aecf-b5d69220d345",
   "metadata": {},
   "outputs": [
    {
     "name": "stdout",
     "output_type": "stream",
     "text": [
      "965 µs ± 9.81 µs per loop (mean ± std. dev. of 7 runs, 1,000 loops each)\n"
     ]
    }
   ],
   "source": [
    "%%timeit\n",
    "for i in range(len(bdf['str_col'])):\n",
    "    value = bdf['str_col'][i]\n",
    "    bdf['str_col'][i] = value"
   ]
  },
  {
   "cell_type": "markdown",
   "id": "ceab4d31-8856-453b-8cf2-1e9bc63b6a32",
   "metadata": {},
   "source": [
    "### loc"
   ]
  },
  {
   "cell_type": "code",
   "execution_count": 32,
   "id": "318713f9-1527-4fc6-9c6e-87736fd0f41c",
   "metadata": {},
   "outputs": [
    {
     "name": "stdout",
     "output_type": "stream",
     "text": [
      "170 ms ± 2.19 ms per loop (mean ± std. dev. of 7 runs, 10 loops each)\n"
     ]
    }
   ],
   "source": [
    "%%timeit\n",
    "for i in range(len(df)):\n",
    "    value = df.loc[i, 'str_col']\n",
    "    df.loc[i, 'str_col'] = value"
   ]
  },
  {
   "cell_type": "code",
   "execution_count": 33,
   "id": "62e8b396-d0b5-47ee-9d7d-9f8b2cae9058",
   "metadata": {},
   "outputs": [
    {
     "name": "stdout",
     "output_type": "stream",
     "text": [
      "3.22 ms ± 39.2 µs per loop (mean ± std. dev. of 7 runs, 100 loops each)\n"
     ]
    }
   ],
   "source": [
    "%%timeit\n",
    "for i in range(len(df)):\n",
    "    value = bdf.loc[i, 'str_col']\n",
    "    bdf.loc[i, 'str_col'] = value"
   ]
  },
  {
   "cell_type": "markdown",
   "id": "14b2d85e-9f0f-4906-b563-1c15579e08a1",
   "metadata": {},
   "source": [
    "### properties"
   ]
  },
  {
   "cell_type": "code",
   "execution_count": 80,
   "id": "c5c1cb42-02ad-4b90-8bbc-226dd54e52ea",
   "metadata": {},
   "outputs": [
    {
     "name": "stdout",
     "output_type": "stream",
     "text": [
      "368 ns ± 0.972 ns per loop (mean ± std. dev. of 7 runs, 1,000,000 loops each)\n"
     ]
    }
   ],
   "source": [
    "%%timeit\n",
    "df.shape"
   ]
  },
  {
   "cell_type": "code",
   "execution_count": 79,
   "id": "f8b84592-927d-43c9-b7a8-e8163fc10feb",
   "metadata": {},
   "outputs": [
    {
     "name": "stdout",
     "output_type": "stream",
     "text": [
      "128 ns ± 0.225 ns per loop (mean ± std. dev. of 7 runs, 10,000,000 loops each)\n"
     ]
    }
   ],
   "source": [
    "%%timeit\n",
    "bdf.shape"
   ]
  },
  {
   "cell_type": "code",
   "execution_count": 10,
   "id": "60c5bf8f-5e5e-448d-9d67-e3d0eb4195a9",
   "metadata": {},
   "outputs": [
    {
     "name": "stdout",
     "output_type": "stream",
     "text": [
      "3.25 µs ± 30.9 ns per loop (mean ± std. dev. of 7 runs, 100,000 loops each)\n"
     ]
    }
   ],
   "source": [
    "%%timeit\n",
    "df.size"
   ]
  },
  {
   "cell_type": "code",
   "execution_count": 12,
   "id": "fad3ec4e-b7f3-434c-866f-d7ce7ca7396a",
   "metadata": {},
   "outputs": [
    {
     "name": "stdout",
     "output_type": "stream",
     "text": [
      "133 ns ± 0.645 ns per loop (mean ± std. dev. of 7 runs, 10,000,000 loops each)\n"
     ]
    }
   ],
   "source": [
    "%%timeit\n",
    "bdf.size"
   ]
  },
  {
   "cell_type": "code",
   "execution_count": 34,
   "id": "359215ac-703a-4ae2-b6a2-65b3cc5e438c",
   "metadata": {},
   "outputs": [
    {
     "name": "stdout",
     "output_type": "stream",
     "text": [
      "99.6 ms ± 756 µs per loop (mean ± std. dev. of 7 runs, 10 loops each)\n"
     ]
    }
   ],
   "source": [
    "%%timeit\n",
    "for i in range(len(df)-2):\n",
    "    df.loc[i:i+2, 'str_col']"
   ]
  },
  {
   "cell_type": "code",
   "execution_count": 35,
   "id": "ede7dcc9-2dd9-412a-8ce8-74d5e035fab4",
   "metadata": {},
   "outputs": [
    {
     "name": "stdout",
     "output_type": "stream",
     "text": [
      "1.62 ms ± 2.33 µs per loop (mean ± std. dev. of 7 runs, 1,000 loops each)\n"
     ]
    }
   ],
   "source": [
    "%%timeit\n",
    "for i in range(len(bdf)-2):\n",
    "    bdf.loc[i:i+2, 'str_col']"
   ]
  },
  {
   "cell_type": "markdown",
   "id": "b1a5d9d8-1cb0-499a-a898-395f7e7650d6",
   "metadata": {},
   "source": [
    "# concat\n",
    "TODO"
   ]
  },
  {
   "cell_type": "code",
   "execution_count": 30,
   "id": "0811a022-1a5e-413a-9f0c-a6f9fff35abf",
   "metadata": {},
   "outputs": [],
   "source": [
    "data = {'str_col':['dataset 2' for _ in range(3500)], 'int_col': [1] * 3500}\n",
    "df2 = pd.DataFrame(data)\n",
    "bdf2 = bb.DataFrame(data)"
   ]
  },
  {
   "cell_type": "code",
   "execution_count": 57,
   "id": "bd847cf1-07e3-4eba-a95d-7f004a7d9f03",
   "metadata": {},
   "outputs": [],
   "source": [
    "data2 = {'col'+str(i): ['dataset 2' for _ in range(3500)] for i in range(10,15)}\n",
    "df2 = pd.DataFrame(data2)\n",
    "bdf2 = bb.DataFrame(data2)"
   ]
  },
  {
   "cell_type": "code",
   "execution_count": 58,
   "id": "87ab06f7-f92c-4dfd-a774-3f0b52ebaedd",
   "metadata": {},
   "outputs": [
    {
     "name": "stdout",
     "output_type": "stream",
     "text": [
      "503 µs ± 17.3 µs per loop (mean ± std. dev. of 7 runs, 1,000 loops each)\n"
     ]
    }
   ],
   "source": [
    "%%timeit\n",
    "pd.concat([df, df2], axis=0)"
   ]
  },
  {
   "cell_type": "code",
   "execution_count": 59,
   "id": "4a01c6ea-0ca3-4c54-b3e2-e0748bbf4af8",
   "metadata": {},
   "outputs": [
    {
     "name": "stdout",
     "output_type": "stream",
     "text": [
      "The slowest run took 4.25 times longer than the fastest. This could mean that an intermediate result is being cached.\n",
      "833 µs ± 352 µs per loop (mean ± std. dev. of 7 runs, 1,000 loops each)\n"
     ]
    }
   ],
   "source": [
    "%%timeit\n",
    "bb.concat([bdf, bdf2], axis=0)"
   ]
  },
  {
   "cell_type": "markdown",
   "id": "fb661dee-901c-4074-8bdd-4d140ba1f8f8",
   "metadata": {},
   "source": [
    "# Memory Usage"
   ]
  },
  {
   "cell_type": "code",
   "execution_count": 49,
   "id": "dfaeb0df-885a-4193-8abf-6d14e49a204f",
   "metadata": {},
   "outputs": [
    {
     "name": "stdout",
     "output_type": "stream",
     "text": [
      "27.2 µs ± 90.5 ns per loop (mean ± std. dev. of 7 runs, 10,000 loops each)\n"
     ]
    }
   ],
   "source": []
  },
  {
   "cell_type": "code",
   "execution_count": 23,
   "id": "d42588b5-7a0c-4638-b3bb-7e742efd9691",
   "metadata": {},
   "outputs": [
    {
     "data": {
      "text/plain": [
       "'hello world this is a big string line, googble gobble, one of us'"
      ]
     },
     "execution_count": 23,
     "metadata": {},
     "output_type": "execute_result"
    }
   ],
   "source": []
  },
  {
   "cell_type": "code",
   "execution_count": 36,
   "id": "c59d98a6-47fd-434e-aba3-f2ecb06a9775",
   "metadata": {},
   "outputs": [
    {
     "name": "stdout",
     "output_type": "stream",
     "text": [
      "48.6 ms ± 359 µs per loop (mean ± std. dev. of 7 runs, 10 loops each)\n"
     ]
    }
   ],
   "source": []
  },
  {
   "cell_type": "code",
   "execution_count": null,
   "id": "1fee6d68-1d33-48f5-93e7-ba75935cb6ea",
   "metadata": {},
   "outputs": [],
   "source": []
  },
  {
   "cell_type": "code",
   "execution_count": 41,
   "id": "7541c941-ff69-4c50-a19f-a2206f82f5a6",
   "metadata": {},
   "outputs": [
    {
     "name": "stdout",
     "output_type": "stream",
     "text": [
      "120 µs ± 1.06 µs per loop (mean ± std. dev. of 7 runs, 10,000 loops each)\n"
     ]
    }
   ],
   "source": [
    "%%timeit \n",
    "for i in range(len(df)):\n",
    "    data = t['str_col'][i]\n",
    "    t['str_col'][i] = data"
   ]
  },
  {
   "cell_type": "code",
   "execution_count": 240,
   "id": "345d8a7e-4edb-41f2-a9f0-86eff2258eb2",
   "metadata": {},
   "outputs": [
    {
     "name": "stdout",
     "output_type": "stream",
     "text": [
      "182 µs ± 438 ns per loop (mean ± std. dev. of 7 runs, 10,000 loops each)\n"
     ]
    }
   ],
   "source": [
    "%%timeit\n",
    "def sameVal(value):\n",
    "    return value\n",
    "\n",
    "df.str_col.apply(sameVal)"
   ]
  },
  {
   "cell_type": "code",
   "execution_count": 29,
   "id": "7f33f6e5-8ea6-4ac3-b53d-08e0b6596dbc",
   "metadata": {},
   "outputs": [
    {
     "name": "stdout",
     "output_type": "stream",
     "text": [
      "621 µs ± 2.8 µs per loop (mean ± std. dev. of 7 runs, 1,000 loops each)\n"
     ]
    }
   ],
   "source": [
    "%%timeit\n",
    "df.str_col.str.contains('us')"
   ]
  },
  {
   "cell_type": "code",
   "execution_count": 31,
   "id": "e5294aa1-a4e9-497d-b2a0-aa3b6a111a90",
   "metadata": {},
   "outputs": [
    {
     "name": "stdout",
     "output_type": "stream",
     "text": [
      "214 µs ± 22.6 µs per loop (mean ± std. dev. of 7 runs, 1,000 loops each)\n"
     ]
    }
   ],
   "source": [
    "%%timeit\n",
    "[ True if 'us' in value else False for value in bb['str_col']]"
   ]
  },
  {
   "cell_type": "code",
   "execution_count": 35,
   "id": "fbd71261-bfe8-49ec-807a-3b81092c98a9",
   "metadata": {},
   "outputs": [
    {
     "name": "stdout",
     "output_type": "stream",
     "text": [
      "115 µs ± 344 ns per loop (mean ± std. dev. of 7 runs, 10,000 loops each)\n"
     ]
    }
   ],
   "source": [
    "%%timeit\n",
    "df.str_col == 'hello world this is a big string line, googble gobble, one of u'"
   ]
  },
  {
   "cell_type": "code",
   "execution_count": 45,
   "id": "540794b3-c3f6-486b-a58b-d05b705811dd",
   "metadata": {},
   "outputs": [],
   "source": [
    "#%%timeit\n",
    "test =['hello world this is a big string line, googble gobble, one of u' == value for value in  bb['str_col']]"
   ]
  },
  {
   "cell_type": "code",
   "execution_count": 2,
   "id": "ff3cdb3b-3a12-4ad3-90dc-38aa3015da67",
   "metadata": {},
   "outputs": [
    {
     "name": "stdout",
     "output_type": "stream",
     "text": [
      "15\n"
     ]
    }
   ],
   "source": [
    "def recursive_sum_merge(numbers):\n",
    "    # Base case: If the list contains only one element, return that element.\n",
    "    if len(numbers) == 1:\n",
    "        return numbers[0]\n",
    "\n",
    "    # Divide the list into two halves.\n",
    "    mid = len(numbers) // 2\n",
    "    left_half = numbers[:mid]\n",
    "    right_half = numbers[mid:]\n",
    "\n",
    "    # Recursively calculate the sum of the left and right halves.\n",
    "    left_sum = recursive_sum_merge(left_half)\n",
    "    right_sum = recursive_sum_merge(right_half)\n",
    "\n",
    "    # Merge the sums of the left and right halves.\n",
    "    return left_sum + right_sum\n",
    "\n",
    "# Example usage:\n",
    "my_list = [1, 2, 3, 4, 5]\n",
    "result = recursive_sum_merge(my_list)\n",
    "print(result)  # This will print 15, which is the sum of the numbers in the list.\n",
    "\n",
    "    "
   ]
  },
  {
   "cell_type": "code",
   "execution_count": 11,
   "id": "2c8ccdb7-1c1e-434f-9f3e-2213e5ff2275",
   "metadata": {},
   "outputs": [],
   "source": [
    "nums = [num for num in range(1000)]"
   ]
  },
  {
   "cell_type": "code",
   "execution_count": 12,
   "id": "0b66ef6d-f723-4aa8-8e6a-0ef82b453d28",
   "metadata": {},
   "outputs": [],
   "source": [
    "df = pd.DataFrame({'nums' : nums})"
   ]
  },
  {
   "cell_type": "code",
   "execution_count": 14,
   "id": "f9bebad7-b0d9-4577-9563-4be46a24c847",
   "metadata": {},
   "outputs": [
    {
     "name": "stdout",
     "output_type": "stream",
     "text": [
      "19.7 µs ± 86.5 ns per loop (mean ± std. dev. of 7 runs, 10,000 loops each)\n"
     ]
    }
   ],
   "source": [
    "%%timeit\n",
    "df.nums.sum()"
   ]
  },
  {
   "cell_type": "code",
   "execution_count": 15,
   "id": "205d1b90-6c77-4166-8334-fb05969fe457",
   "metadata": {},
   "outputs": [
    {
     "name": "stdout",
     "output_type": "stream",
     "text": [
      "4.4 µs ± 12.4 ns per loop (mean ± std. dev. of 7 runs, 100,000 loops each)\n"
     ]
    }
   ],
   "source": [
    "%%timeit\n",
    "sum(nums)"
   ]
  },
  {
   "cell_type": "code",
   "execution_count": 16,
   "id": "b10ed44c-2979-4d70-ada5-359989b9a4fb",
   "metadata": {},
   "outputs": [
    {
     "name": "stdout",
     "output_type": "stream",
     "text": [
      "277 µs ± 163 ns per loop (mean ± std. dev. of 7 runs, 1,000 loops each)\n"
     ]
    }
   ],
   "source": [
    "%%timeit\n",
    "recursive_sum_merge(nums)"
   ]
  },
  {
   "cell_type": "code",
   "execution_count": 19,
   "id": "e1600a82-0540-4ff3-9709-37e6a71b1891",
   "metadata": {},
   "outputs": [],
   "source": [
    "npnums = np.array(nums)"
   ]
  },
  {
   "cell_type": "code",
   "execution_count": 22,
   "id": "4f86f1e8-2978-4e46-ae39-b6d900e3c89d",
   "metadata": {},
   "outputs": [
    {
     "name": "stdout",
     "output_type": "stream",
     "text": [
      "1.26 µs ± 1.97 ns per loop (mean ± std. dev. of 7 runs, 1,000,000 loops each)\n"
     ]
    }
   ],
   "source": [
    "%%timeit\n",
    "npnums.sum()"
   ]
  },
  {
   "cell_type": "code",
   "execution_count": 30,
   "id": "24874717-7d47-4043-b805-232b3137161c",
   "metadata": {},
   "outputs": [
    {
     "data": {
      "text/plain": [
       "8112"
      ]
     },
     "execution_count": 30,
     "metadata": {},
     "output_type": "execute_result"
    }
   ],
   "source": [
    "sys.getsizeof(npnums)"
   ]
  },
  {
   "cell_type": "code",
   "execution_count": 31,
   "id": "011fa332-01bc-43c1-b135-f45759b69bd8",
   "metadata": {},
   "outputs": [
    {
     "data": {
      "text/plain": [
       "8856"
      ]
     },
     "execution_count": 31,
     "metadata": {},
     "output_type": "execute_result"
    }
   ],
   "source": [
    "sys.getsizeof(nums)\n"
   ]
  },
  {
   "cell_type": "code",
   "execution_count": 33,
   "id": "c8972255-0c6c-408a-b38c-8411fdab5645",
   "metadata": {},
   "outputs": [
    {
     "name": "stdout",
     "output_type": "stream",
     "text": [
      "<class 'pandas.core.frame.DataFrame'>\n",
      "RangeIndex: 1000 entries, 0 to 999\n",
      "Data columns (total 1 columns):\n",
      " #   Column  Non-Null Count  Dtype\n",
      "---  ------  --------------  -----\n",
      " 0   nums    1000 non-null   int64\n",
      "dtypes: int64(1)\n",
      "memory usage: 7.9 KB\n"
     ]
    }
   ],
   "source": [
    "df.info()"
   ]
  },
  {
   "cell_type": "code",
   "execution_count": 34,
   "id": "3ff5540c-1434-4760-9ccf-65243c6248d3",
   "metadata": {},
   "outputs": [
    {
     "data": {
      "text/plain": [
       "8132"
      ]
     },
     "execution_count": 34,
     "metadata": {},
     "output_type": "execute_result"
    }
   ],
   "source": [
    "df.memory_usage(index=True).sum()"
   ]
  },
  {
   "cell_type": "code",
   "execution_count": 37,
   "id": "784b2e8c-f96a-42fa-94e4-dbc43295f77e",
   "metadata": {},
   "outputs": [
    {
     "name": "stdout",
     "output_type": "stream",
     "text": [
      "294 µs ± 702 ns per loop (mean ± std. dev. of 7 runs, 1,000 loops each)\n"
     ]
    }
   ],
   "source": [
    "%%timeit\n",
    "#apply test \n",
    "def sameNum(x):\n",
    "    return x\n",
    "\n",
    "df['nums'] = df.nums.apply(sameNum)"
   ]
  },
  {
   "cell_type": "code",
   "execution_count": 175,
   "id": "35ccffb9-bcf4-4ac5-b4e0-bea436e2a901",
   "metadata": {},
   "outputs": [],
   "source": [
    "t2 = bbDataFrame(df)"
   ]
  },
  {
   "cell_type": "code",
   "execution_count": 116,
   "id": "90f349dc-f1af-4e77-9895-8c23de128961",
   "metadata": {},
   "outputs": [
    {
     "name": "stdout",
     "output_type": "stream",
     "text": [
      "74.5 ms ± 1.43 ms per loop (mean ± std. dev. of 7 runs, 10 loops each)\n"
     ]
    }
   ],
   "source": [
    "%%timeit\n",
    "for i in range(len(df)):\n",
    "    data = df.loc[i, 'str_col']\n",
    "    df.loc[i, 'str_col'] = data"
   ]
  },
  {
   "cell_type": "code",
   "execution_count": 117,
   "id": "c586e386-5560-486c-8796-428a9ce0060c",
   "metadata": {},
   "outputs": [],
   "source": [
    "first = df.str_col[0]"
   ]
  },
  {
   "cell_type": "code",
   "execution_count": 118,
   "id": "d59a98af-31e1-4656-8ad3-dc18e5890bd3",
   "metadata": {},
   "outputs": [
    {
     "name": "stdout",
     "output_type": "stream",
     "text": [
      "18 µs ± 65.8 ns per loop (mean ± std. dev. of 7 runs, 100,000 loops each)\n"
     ]
    }
   ],
   "source": [
    "%%timeit\n",
    "df.loc[1:500, 'str_col'] = first"
   ]
  },
  {
   "cell_type": "code",
   "execution_count": 119,
   "id": "7aaf38c7-ea32-4c94-a33c-5e3cb56e2975",
   "metadata": {},
   "outputs": [
    {
     "name": "stdout",
     "output_type": "stream",
     "text": [
      "1.38 ms ± 6.4 µs per loop (mean ± std. dev. of 7 runs, 1,000 loops each)\n"
     ]
    }
   ],
   "source": [
    "%%timeit\n",
    "for i in range(len(test)):\n",
    "    data = test.loc[i, 'str_col']\n",
    "    test.loc[i, 'str_col'] = data"
   ]
  },
  {
   "cell_type": "code",
   "execution_count": 120,
   "id": "5ed9a5aa-0f2b-4dec-b28a-36437b3f50a9",
   "metadata": {},
   "outputs": [
    {
     "name": "stdout",
     "output_type": "stream",
     "text": [
      "17.9 µs ± 8.88 ns per loop (mean ± std. dev. of 7 runs, 100,000 loops each)\n"
     ]
    }
   ],
   "source": [
    "%%timeit\n",
    "df.loc[1:500, 'str_col'] = first"
   ]
  },
  {
   "cell_type": "code",
   "execution_count": 177,
   "id": "13872801-b547-458b-8391-6487004f2e2a",
   "metadata": {},
   "outputs": [],
   "source": [
    "t2.loc[2, 'str_col'] = 'test'"
   ]
  },
  {
   "cell_type": "code",
   "execution_count": 179,
   "id": "6f2cbcba-74c5-4b7c-b068-975d272eabdc",
   "metadata": {},
   "outputs": [
    {
     "data": {
      "text/plain": [
       "0       hello world this is a big string line, googble...\n",
       "1                                                    test\n",
       "2       hello world this is a big string line, googble...\n",
       "3       hello world this is a big string line, googble...\n",
       "4       hello world this is a big string line, googble...\n",
       "                              ...                        \n",
       "3495    hello world this is a big string line, googble...\n",
       "3496    hello world this is a big string line, googble...\n",
       "3497    hello world this is a big string line, googble...\n",
       "3498    hello world this is a big string line, googble...\n",
       "3499    hello world this is a big string line, googble...\n",
       "Name: col, Length: 3500, dtype: object"
      ]
     },
     "execution_count": 179,
     "metadata": {},
     "output_type": "execute_result"
    }
   ],
   "source": [
    "df['str_col']"
   ]
  },
  {
   "cell_type": "code",
   "execution_count": 57,
   "id": "b94123e3-d0ed-4c60-ac80-defb483e7f7b",
   "metadata": {},
   "outputs": [
    {
     "name": "stdout",
     "output_type": "stream",
     "text": [
      "(1, 'col')\n"
     ]
    }
   ],
   "source": [
    "test.loc[1, 'str_col'] = 'test'"
   ]
  },
  {
   "cell_type": "code",
   "execution_count": 64,
   "id": "3086d8bb-feb2-43b4-882c-e0420863a736",
   "metadata": {},
   "outputs": [
    {
     "name": "stdout",
     "output_type": "stream",
     "text": [
      "154 ns ± 0.901 ns per loop (mean ± std. dev. of 7 runs, 10,000,000 loops each)\n"
     ]
    }
   ],
   "source": [
    "%%timeit\n",
    "test.at[10,'str_col']"
   ]
  },
  {
   "cell_type": "code",
   "execution_count": 49,
   "id": "619e0f78-ed77-4833-bc94-45d944af4197",
   "metadata": {},
   "outputs": [
    {
     "name": "stdout",
     "output_type": "stream",
     "text": [
      "1.12 µs ± 11.6 ns per loop (mean ± std. dev. of 7 runs, 1,000,000 loops each)\n"
     ]
    }
   ],
   "source": [
    "%%timeit\n",
    "df.at[10, 'str_col']"
   ]
  },
  {
   "cell_type": "code",
   "execution_count": 75,
   "id": "9587de29-8859-42e0-8d51-dafe448ca6af",
   "metadata": {},
   "outputs": [
    {
     "name": "stdout",
     "output_type": "stream",
     "text": [
      "162 ns ± 0.982 ns per loop (mean ± std. dev. of 7 runs, 10,000,000 loops each)\n"
     ]
    }
   ],
   "source": [
    "%%timeit\n",
    "test.at[10,'str_col']"
   ]
  },
  {
   "cell_type": "code",
   "execution_count": 121,
   "id": "8fa024ef-45ce-4718-aa9c-add5d9947d6d",
   "metadata": {},
   "outputs": [
    {
     "name": "stdout",
     "output_type": "stream",
     "text": [
      "(1, 'col') it worked\n"
     ]
    }
   ],
   "source": [
    "test.at[1, 'str_col'] = 'it worked'"
   ]
  },
  {
   "cell_type": "code",
   "execution_count": 128,
   "id": "58827acb-98b7-4ee3-8c01-92253f8ed1ff",
   "metadata": {},
   "outputs": [
    {
     "name": "stdout",
     "output_type": "stream",
     "text": [
      "31.2 ms ± 64.3 µs per loop (mean ± std. dev. of 7 runs, 10 loops each)\n"
     ]
    }
   ],
   "source": [
    "%%timeit\n",
    "for i in range(len(df)):\n",
    "    data = df.at[i, 'str_col']\n",
    "    df.at[i, 'str_col'] = data"
   ]
  },
  {
   "cell_type": "code",
   "execution_count": 134,
   "id": "3def8815-969e-4c78-a250-e01c13c744ea",
   "metadata": {
    "tags": []
   },
   "outputs": [
    {
     "name": "stdout",
     "output_type": "stream",
     "text": [
      "1.23 ms ± 7.62 µs per loop (mean ± std. dev. of 7 runs, 1,000 loops each)\n"
     ]
    }
   ],
   "source": [
    "%%timeit\n",
    "for i in range(len(test['str_col'])):\n",
    "    data = test.at[i, 'str_col']\n",
    "    test.at[i, 'str_col'] = data"
   ]
  },
  {
   "cell_type": "code",
   "execution_count": 136,
   "id": "a3106f39-1dd8-4473-9bfc-1b4c0399ac2b",
   "metadata": {},
   "outputs": [
    {
     "name": "stdout",
     "output_type": "stream",
     "text": [
      "260 µs ± 2.02 µs per loop (mean ± std. dev. of 7 runs, 1,000 loops each)\n"
     ]
    }
   ],
   "source": [
    "%%timeit\n",
    "for i in range(len(test['str_col'])):\n",
    "    data = test['str_col'][i]\n",
    "    test['str_col'][i] = data"
   ]
  },
  {
   "cell_type": "code",
   "execution_count": 128,
   "id": "abf0959d-7639-45fd-b91d-2a9b2b61f210",
   "metadata": {},
   "outputs": [
    {
     "data": {
      "text/plain": [
       "120.0"
      ]
     },
     "execution_count": 128,
     "metadata": {},
     "output_type": "execute_result"
    }
   ],
   "source": [
    "31.2/0.26"
   ]
  },
  {
   "cell_type": "markdown",
   "id": "8092f6d4-83df-43f2-bcb6-efed5e6691b9",
   "metadata": {},
   "source": [
    "# R&D"
   ]
  },
  {
   "cell_type": "code",
   "execution_count": 210,
   "id": "766f1329-5ba3-4a16-ae25-88641853e3f2",
   "metadata": {},
   "outputs": [
    {
     "name": "stdout",
     "output_type": "stream",
     "text": [
      "610 µs ± 3.85 µs per loop (mean ± std. dev. of 7 runs, 1,000 loops each)\n"
     ]
    }
   ],
   "source": [
    "%%timeit\n",
    "df.loc[df.str_col.str.contains('foo')]"
   ]
  },
  {
   "cell_type": "code",
   "execution_count": 183,
   "id": "71c3fa0a-2400-4a57-b238-0ecb1fe28bba",
   "metadata": {},
   "outputs": [
    {
     "name": "stdout",
     "output_type": "stream",
     "text": [
      "401 µs ± 2.16 µs per loop (mean ± std. dev. of 7 runs, 1,000 loops each)\n"
     ]
    }
   ],
   "source": [
    "%%timeit\n",
    "found = [True if 'us' in value else False for value in t['str_col']]\n",
    "subset = {}\n",
    "for str_col in t.keys():\n",
    "    data =[t[str_col][i] for i in range(len(df)) if found[i]]\n",
    "    subset[str_col] = data"
   ]
  },
  {
   "cell_type": "code",
   "execution_count": 203,
   "id": "ea707694-192f-4b65-8cbb-87b0fac30e5c",
   "metadata": {},
   "outputs": [
    {
     "name": "stdout",
     "output_type": "stream",
     "text": [
      "291 µs ± 1.89 µs per loop (mean ± std. dev. of 7 runs, 1,000 loops each)\n"
     ]
    }
   ],
   "source": [
    "%%timeit\n",
    "found = [True if 'foo' in value else False for value in t['str_col']]\n",
    "{str_col: [t[str_col][i] for i in range(len(t['str_col'])) if found[i]] for str_col in t.keys()}"
   ]
  },
  {
   "cell_type": "code",
   "execution_count": 211,
   "id": "0b45994f-3f03-4e26-8e85-e3ab98f6b381",
   "metadata": {},
   "outputs": [
    {
     "name": "stdout",
     "output_type": "stream",
     "text": [
      "173 µs ± 800 ns per loop (mean ± std. dev. of 7 runs, 10,000 loops each)\n"
     ]
    }
   ],
   "source": [
    "%%timeit\n",
    "found = [idx for idx, value in enumerate(t['str_col']) if 'foo' in value]\n",
    "subset = {str_col: [t[str_col][i] for i in found] for str_col in t.keys()}"
   ]
  },
  {
   "cell_type": "code",
   "execution_count": 194,
   "id": "fe27020a-ca0d-439c-a08d-9f237982abd8",
   "metadata": {},
   "outputs": [
    {
     "data": {
      "text/plain": [
       "range(0, 3500)"
      ]
     },
     "execution_count": 194,
     "metadata": {},
     "output_type": "execute_result"
    }
   ],
   "source": [
    "t['idx']"
   ]
  },
  {
   "cell_type": "code",
   "execution_count": 199,
   "id": "cd28206f-ca1b-4edf-bb00-1464bdb22d74",
   "metadata": {},
   "outputs": [],
   "source": [
    "t['str_col'][3499] = 'hello world this is a big string line, googble gobble, one of foo'"
   ]
  },
  {
   "cell_type": "code",
   "execution_count": 205,
   "id": "9e519331-950e-41cf-b5d4-6551164c3234",
   "metadata": {},
   "outputs": [],
   "source": [
    "found = [idx for idx, value in enumerate(t['str_col']) if 'foo' in value]"
   ]
  },
  {
   "cell_type": "code",
   "execution_count": 206,
   "id": "aee7b3e8-441b-4e72-bc93-de5cb3784ad2",
   "metadata": {},
   "outputs": [
    {
     "data": {
      "text/plain": [
       "[3499]"
      ]
     },
     "execution_count": 206,
     "metadata": {},
     "output_type": "execute_result"
    }
   ],
   "source": [
    "found"
   ]
  },
  {
   "cell_type": "code",
   "execution_count": 87,
   "id": "d23a9fe1-6191-48a9-8c5a-671d2bfd8c3b",
   "metadata": {},
   "outputs": [],
   "source": [
    "df['str_col'] = df['str_col'].astype('category')"
   ]
  },
  {
   "cell_type": "code",
   "execution_count": 89,
   "id": "4e451d33-36f0-4956-8722-a5fdbdefc000",
   "metadata": {},
   "outputs": [
    {
     "data": {
      "text/plain": [
       "3878"
      ]
     },
     "execution_count": 89,
     "metadata": {},
     "output_type": "execute_result"
    }
   ],
   "source": [
    "sys.getsizeof(df)"
   ]
  },
  {
   "cell_type": "code",
   "execution_count": 17,
   "id": "41916755-d86e-4931-85a7-823ac7f8cff7",
   "metadata": {},
   "outputs": [],
   "source": [
    "test = {'col': [1,2,3]}\n",
    "test['col'].extend([3,4,5])"
   ]
  },
  {
   "cell_type": "code",
   "execution_count": 18,
   "id": "1063e8c2-a42a-498a-8dab-e20be562bf9f",
   "metadata": {},
   "outputs": [
    {
     "data": {
      "text/plain": [
       "{'col': [1, 2, 3, 3, 4, 5]}"
      ]
     },
     "execution_count": 18,
     "metadata": {},
     "output_type": "execute_result"
    }
   ],
   "source": [
    "test"
   ]
  },
  {
   "cell_type": "markdown",
   "id": "6286a480-442b-4206-abb3-67915f282760",
   "metadata": {},
   "source": [
    "# todo"
   ]
  },
  {
   "cell_type": "code",
   "execution_count": 83,
   "id": "6d6b460f-93d5-40cc-99dc-3e9f8505c027",
   "metadata": {},
   "outputs": [
    {
     "ename": "AttributeError",
     "evalue": "'DataFrame' object has no attribute 'str_col'",
     "output_type": "error",
     "traceback": [
      "\u001b[1;31m---------------------------------------------------------------------------\u001b[0m",
      "\u001b[1;31mAttributeError\u001b[0m                            Traceback (most recent call last)",
      "Cell \u001b[1;32mIn[83], line 2\u001b[0m\n\u001b[0;32m      1\u001b[0m \u001b[38;5;66;03m# attruibute col?\u001b[39;00m\n\u001b[1;32m----> 2\u001b[0m \u001b[43mbdf\u001b[49m\u001b[38;5;241;43m.\u001b[39;49m\u001b[43mstr_col\u001b[49m\n",
      "\u001b[1;31mAttributeError\u001b[0m: 'DataFrame' object has no attribute 'str_col'"
     ]
    }
   ],
   "source": [
    "# attruibute col?\n",
    "bdf.str_col"
   ]
  },
  {
   "cell_type": "code",
   "execution_count": 20,
   "id": "06603359-9d46-4326-aa2c-e58ada8f990e",
   "metadata": {},
   "outputs": [],
   "source": [
    "df2 = df.copy()"
   ]
  },
  {
   "cell_type": "code",
   "execution_count": 22,
   "id": "b46a7fc6-3d8e-4623-a84e-cd9aef1e028a",
   "metadata": {},
   "outputs": [],
   "source": [
    "df2['t'] = 1"
   ]
  },
  {
   "cell_type": "code",
   "execution_count": 25,
   "id": "fcd105b7-d5eb-4709-bb36-70ed7956a545",
   "metadata": {},
   "outputs": [
    {
     "name": "stderr",
     "output_type": "stream",
     "text": [
      "[autoreload of bamboo.bamboo failed: Traceback (most recent call last):\n",
      "  File \"C:\\Users\\dps65\\miniconda3\\envs\\math\\lib\\site-packages\\IPython\\extensions\\autoreload.py\", line 273, in check\n",
      "    superreload(m, reload, self.old_objects)\n",
      "  File \"C:\\Users\\dps65\\miniconda3\\envs\\math\\lib\\site-packages\\IPython\\extensions\\autoreload.py\", line 471, in superreload\n",
      "    module = reload(module)\n",
      "  File \"C:\\Users\\dps65\\miniconda3\\envs\\math\\lib\\importlib\\__init__.py\", line 169, in reload\n",
      "    _bootstrap._exec(spec, module)\n",
      "  File \"<frozen importlib._bootstrap>\", line 619, in _exec\n",
      "  File \"<frozen importlib._bootstrap_external>\", line 879, in exec_module\n",
      "  File \"<frozen importlib._bootstrap_external>\", line 1017, in get_code\n",
      "  File \"<frozen importlib._bootstrap_external>\", line 947, in source_to_code\n",
      "  File \"<frozen importlib._bootstrap>\", line 241, in _call_with_frames_removed\n",
      "  File \"D:\\git\\bamboo\\bamboo\\bamboo.py\", line 127\n",
      "    for col in df1_columns.difference(df2.columns)\n",
      "                                                  ^\n",
      "SyntaxError: expected ':'\n",
      "]\n"
     ]
    },
    {
     "data": {
      "text/html": [
       "<div>\n",
       "<style scoped>\n",
       "    .dataframe tbody tr th:only-of-type {\n",
       "        vertical-align: middle;\n",
       "    }\n",
       "\n",
       "    .dataframe tbody tr th {\n",
       "        vertical-align: top;\n",
       "    }\n",
       "\n",
       "    .dataframe thead th {\n",
       "        text-align: right;\n",
       "    }\n",
       "</style>\n",
       "<table border=\"1\" class=\"dataframe\">\n",
       "  <thead>\n",
       "    <tr style=\"text-align: right;\">\n",
       "      <th></th>\n",
       "      <th>str_col</th>\n",
       "      <th>t</th>\n",
       "    </tr>\n",
       "  </thead>\n",
       "  <tbody>\n",
       "    <tr>\n",
       "      <th>0</th>\n",
       "      <td>hello world this is a big string line, pandas ...</td>\n",
       "      <td>1.0</td>\n",
       "    </tr>\n",
       "    <tr>\n",
       "      <th>1</th>\n",
       "      <td>hello world this is a big string line, pandas ...</td>\n",
       "      <td>1.0</td>\n",
       "    </tr>\n",
       "    <tr>\n",
       "      <th>2</th>\n",
       "      <td>hello world this is a big string line, pandas ...</td>\n",
       "      <td>1.0</td>\n",
       "    </tr>\n",
       "    <tr>\n",
       "      <th>3</th>\n",
       "      <td>hello world this is a big string line, pandas ...</td>\n",
       "      <td>1.0</td>\n",
       "    </tr>\n",
       "    <tr>\n",
       "      <th>4</th>\n",
       "      <td>hello world this is a big string line, pandas ...</td>\n",
       "      <td>1.0</td>\n",
       "    </tr>\n",
       "    <tr>\n",
       "      <th>...</th>\n",
       "      <td>...</td>\n",
       "      <td>...</td>\n",
       "    </tr>\n",
       "    <tr>\n",
       "      <th>3495</th>\n",
       "      <td>hello world this is a big string line, pandas ...</td>\n",
       "      <td>NaN</td>\n",
       "    </tr>\n",
       "    <tr>\n",
       "      <th>3496</th>\n",
       "      <td>hello world this is a big string line, pandas ...</td>\n",
       "      <td>NaN</td>\n",
       "    </tr>\n",
       "    <tr>\n",
       "      <th>3497</th>\n",
       "      <td>hello world this is a big string line, pandas ...</td>\n",
       "      <td>NaN</td>\n",
       "    </tr>\n",
       "    <tr>\n",
       "      <th>3498</th>\n",
       "      <td>hello world this is a big string line, pandas ...</td>\n",
       "      <td>NaN</td>\n",
       "    </tr>\n",
       "    <tr>\n",
       "      <th>3499</th>\n",
       "      <td>hello world this is a big string line, pandas ...</td>\n",
       "      <td>NaN</td>\n",
       "    </tr>\n",
       "  </tbody>\n",
       "</table>\n",
       "<p>7000 rows × 2 columns</p>\n",
       "</div>"
      ],
      "text/plain": [
       "                                                str_col    t\n",
       "0     hello world this is a big string line, pandas ...  1.0\n",
       "1     hello world this is a big string line, pandas ...  1.0\n",
       "2     hello world this is a big string line, pandas ...  1.0\n",
       "3     hello world this is a big string line, pandas ...  1.0\n",
       "4     hello world this is a big string line, pandas ...  1.0\n",
       "...                                                 ...  ...\n",
       "3495  hello world this is a big string line, pandas ...  NaN\n",
       "3496  hello world this is a big string line, pandas ...  NaN\n",
       "3497  hello world this is a big string line, pandas ...  NaN\n",
       "3498  hello world this is a big string line, pandas ...  NaN\n",
       "3499  hello world this is a big string line, pandas ...  NaN\n",
       "\n",
       "[7000 rows x 2 columns]"
      ]
     },
     "execution_count": 25,
     "metadata": {},
     "output_type": "execute_result"
    }
   ],
   "source": [
    "pd.concat([df2, df], axis=0)"
   ]
  },
  {
   "cell_type": "code",
   "execution_count": null,
   "id": "143997f8-c24f-466d-8531-1e76e316e161",
   "metadata": {},
   "outputs": [],
   "source": []
  }
 ],
 "metadata": {
  "kernelspec": {
   "display_name": "math",
   "language": "python",
   "name": "math"
  },
  "language_info": {
   "codemirror_mode": {
    "name": "ipython",
    "version": 3
   },
   "file_extension": ".py",
   "mimetype": "text/x-python",
   "name": "python",
   "nbconvert_exporter": "python",
   "pygments_lexer": "ipython3",
   "version": "3.10.11"
  }
 },
 "nbformat": 4,
 "nbformat_minor": 5
}
